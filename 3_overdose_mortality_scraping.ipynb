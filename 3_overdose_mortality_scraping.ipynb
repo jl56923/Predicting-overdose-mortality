{
 "cells": [
  {
   "cell_type": "markdown",
   "metadata": {},
   "source": [
    "# Scraping CDC WONDER database\n",
    "\n",
    "This notebook uses Selenium to query the CDC WONDER database website to get drug overdose mortality rate per county for 2016. It queries 5 states at a time, since querying too many states causes the website to time out."
   ]
  },
  {
   "cell_type": "markdown",
   "metadata": {},
   "source": [
    "## Observed dependent variable\n",
    "\n",
    "In order to get the data for the observed dependent variable, it will be necessary to use Selenium and chromedriver to get these tables from CDC Wonder."
   ]
  },
  {
   "cell_type": "code",
   "execution_count": 1,
   "metadata": {},
   "outputs": [],
   "source": [
    "import requests\n",
    "import pandas as pd\n",
    "import matplotlib.pyplot as plt\n",
    "import numpy as np\n",
    "import re\n",
    "import pickle\n",
    "import time\n",
    "\n",
    "from bs4 import BeautifulSoup"
   ]
  },
  {
   "cell_type": "code",
   "execution_count": 2,
   "metadata": {},
   "outputs": [],
   "source": [
    "with open(\"county_df.pkl\", 'rb') as picklefile: # again, rb stands for read binary\n",
    "    [county_df, states] = pickle.load(picklefile)"
   ]
  },
  {
   "cell_type": "code",
   "execution_count": 3,
   "metadata": {},
   "outputs": [
    {
     "data": {
      "text/plain": [
       "[['Alabama', 'Alaska', 'Arizona', 'Arkansas', 'California'],\n",
       " ['Colorado', 'Connecticut', 'Delaware', 'District of Columbia', 'Florida'],\n",
       " ['Georgia', 'Hawaii', 'Idaho', 'Illinois', 'Indiana'],\n",
       " ['Iowa', 'Kansas', 'Kentucky', 'Louisiana', 'Maine'],\n",
       " ['Maryland', 'Massachusetts', 'Michigan', 'Minnesota', 'Mississippi'],\n",
       " ['Missouri', 'Montana', 'Nebraska', 'Nevada', 'New Hampshire'],\n",
       " ['New Jersey', 'New Mexico', 'New York', 'North Carolina', 'North Dakota'],\n",
       " ['Ohio', 'Oklahoma', 'Oregon', 'Pennsylvania', 'Rhode Island'],\n",
       " ['South Carolina', 'South Dakota', 'Tennessee', 'Texas', 'Utah'],\n",
       " ['Vermont', 'Virginia', 'Washington', 'West Virginia', 'Wisconsin'],\n",
       " ['Wyoming']]"
      ]
     },
     "execution_count": 3,
     "metadata": {},
     "output_type": "execute_result"
    }
   ],
   "source": [
    "states[11] = \"Hawaii\"\n",
    "states_by_five = [list(states[i:i+5]) for i in range(0, len(states), 5)]\n",
    "\n",
    "states_by_five"
   ]
  },
  {
   "cell_type": "code",
   "execution_count": 4,
   "metadata": {},
   "outputs": [],
   "source": [
    "from selenium import webdriver\n",
    "from selenium.webdriver.common.keys import Keys\n",
    "from selenium.webdriver.support.ui import Select\n",
    "import time\n",
    "\n",
    "import os\n",
    "chromedriver = \"/Applications/chromedriver\" # path to the chromedriver executable\n",
    "os.environ[\"webdriver.chrome.driver\"] = chromedriver\n",
    "\n",
    "driver = webdriver.Chrome(chromedriver)\n",
    "\n",
    "cdc_wonder_mcd = \"https://wonder.cdc.gov/mcd-icd10.html\"\n",
    "driver.get(cdc_wonder_mcd)"
   ]
  },
  {
   "cell_type": "code",
   "execution_count": 5,
   "metadata": {},
   "outputs": [],
   "source": [
    "agree_button = driver.find_element_by_name(\"action-I Agree\")\n",
    "agree_button.click()\n",
    "time.sleep(2)"
   ]
  },
  {
   "cell_type": "code",
   "execution_count": 6,
   "metadata": {},
   "outputs": [],
   "source": [
    "# Select group by option for results as county\n",
    "select_group_results = Select(driver.find_element_by_id(\"SB_1\"))\n",
    "select_group_results.select_by_visible_text(\"County\")"
   ]
  },
  {
   "cell_type": "code",
   "execution_count": 7,
   "metadata": {},
   "outputs": [],
   "source": [
    "# Check box to get age-adjusted mortality rate\n",
    "AAR_checkbox = driver.find_element_by_id(\"CO_aar_enable_label\")\n",
    "AAR_checkbox.click()"
   ]
  },
  {
   "cell_type": "code",
   "execution_count": 8,
   "metadata": {},
   "outputs": [],
   "source": [
    "def search_dict_values(dic, search_for):\n",
    "    for key, value in dic.items():\n",
    "        if search_for in value:\n",
    "            return key"
   ]
  },
  {
   "cell_type": "code",
   "execution_count": 9,
   "metadata": {},
   "outputs": [],
   "source": [
    "# Select location. Sometimes it works if all the states are selected, but often the request times out.\n",
    "# Will select Alabama first.\n",
    "select_location = Select(driver.find_element_by_id(\"codes-D77.V9\"))\n",
    "\n",
    "location_dict = {}\n",
    "for option in select_location.options:\n",
    "    location_dict[option.get_attribute('value')] = option.text\n",
    "\n",
    "# let's get the location values for the first 5 states.\n",
    "location_values = [search_dict_values(location_dict, state) for state in states_by_five[0]]\n",
    "#location_value = search_dict_values(location_dict, \"Alabama\")\n",
    "for location_value in location_values:\n",
    "    select_location.select_by_value(location_value)\n",
    "\n",
    "select_location.deselect_by_value(\"*All*\")"
   ]
  },
  {
   "cell_type": "code",
   "execution_count": 10,
   "metadata": {},
   "outputs": [],
   "source": [
    "# Select year and month; pick 2016\n",
    "select_year = Select(driver.find_element_by_id(\"codes-D77.V1\"))\n",
    "select_year.select_by_value(\"2016\")\n",
    "select_year.deselect_by_value(\"*All*\")"
   ]
  },
  {
   "cell_type": "code",
   "execution_count": 11,
   "metadata": {},
   "outputs": [],
   "source": [
    "# For underlying cause of death, click radio button for UCD - Drug/Alcohol Induced Causes\n",
    "drug_alcohol_causes = driver.find_element_by_id(\"RO_ucdD77.V25\")\n",
    "drug_alcohol_causes.click()"
   ]
  },
  {
   "cell_type": "code",
   "execution_count": 12,
   "metadata": {},
   "outputs": [],
   "source": [
    "# Now, select all drug induced causes of death.\n",
    "select_drug_causes = Select(driver.find_element_by_id(\"codes-D77.V25\"))\n",
    "\n",
    "#for option in select_drug_causes.options:\n",
    "#    print(option.text)\n",
    "#    print(option.get_attribute('value'))\n",
    "\n",
    "select_drug_causes.select_by_value(\"D\")\n",
    "select_drug_causes.deselect_by_value(\"*All*\")"
   ]
  },
  {
   "cell_type": "code",
   "execution_count": 13,
   "metadata": {},
   "outputs": [],
   "source": [
    "# Click checkbox to show zero rows.\n",
    "show_zeros_button = driver.find_element_by_id(\"CO_show_zeros\")\n",
    "show_zeros_button.click()\n",
    "\n",
    "# Click checkbox to show suppressed rows.\n",
    "show_suppressed_button = driver.find_element_by_id(\"CO_show_suppressed\")\n",
    "show_suppressed_button.click()"
   ]
  },
  {
   "cell_type": "code",
   "execution_count": 14,
   "metadata": {},
   "outputs": [],
   "source": [
    "# Submit this request to the last send button on the page, so that all of the criteria are included.\n",
    "send_button = driver.find_element_by_xpath(\"//div[@class='footer-buttons']/input\")\n",
    "#print(send_button.get_attribute('title'))\n",
    "send_button.click()\n",
    "\n",
    "# It takes time for CDC wonder to answer the query and display the results page.\n",
    "time.sleep(10)"
   ]
  },
  {
   "cell_type": "code",
   "execution_count": 15,
   "metadata": {},
   "outputs": [],
   "source": [
    "def get_od_mort_df(driver):\n",
    "\n",
    "# Get the page of results, then get all the tables in the page.\n",
    "# Get all elements tagged <tr>, and then find the table rows of interest by finding rows containing th class='v'.\n",
    "    soup = BeautifulSoup(driver.page_source, 'html.parser')\n",
    "\n",
    "    table = soup.select(\"tbody\")\n",
    "    table_string = str(table[0])\n",
    "    table_string_split = table_string.split(\"<tr>\")\n",
    "\n",
    "    rows = []\n",
    "\n",
    "    for table_row in table_string_split:\n",
    "        if 'th class=\"v\"' in table_row:\n",
    "            rows.append(table_row)\n",
    "\n",
    "# Split each row by the <td> tag to get a list of each element in the row.\n",
    "    split_rows = [row.split(\"<td>\") for row in rows]\n",
    "\n",
    "# Use regular expressions to get rid of all html tags (everything in <>), also commas, tabs and newlines.\n",
    "    regex = r'(\\<.*?\\>)|([\\n\\t,]*)'\n",
    "\n",
    "    for index, row in enumerate(split_rows):\n",
    "        split_rows[index] = [re.sub(regex, \"\", cell) for cell in row]\n",
    "\n",
    "    cols = ['county_name', 'overdose_deaths', 'population', 'crude_rate', 'age_adj_rate']\n",
    "    od_mort_df = pd.DataFrame(split_rows, columns=cols)\n",
    "\n",
    "# The INCITS is located in parentheses at the end of the county_name. It will be easier to join this dataframe\n",
    "# to the overall dataframe by joining on INCIT, so we'll go ahead and get the INCITS for each row, create a new\n",
    "# column called INCITS, and then drop the county_name.\n",
    "    county_names = list(od_mort_df.county_name)\n",
    "    incits = [county_name.split(\" \")[-1] for county_name in county_names]\n",
    "    incits = [re.sub(r'\\(*\\)*', \"\", incit) for incit in incits]\n",
    "    od_mort_df['INCITS'] = incits\n",
    "    \n",
    "    return od_mort_df"
   ]
  },
  {
   "cell_type": "code",
   "execution_count": 16,
   "metadata": {},
   "outputs": [],
   "source": [
    "od_mort_df = get_od_mort_df(driver)"
   ]
  },
  {
   "cell_type": "code",
   "execution_count": 17,
   "metadata": {},
   "outputs": [],
   "source": [
    "# After you are done parsing the results, then you can click back to the request page in order to\n",
    "# re-run the request, except this time you are going to pick a different set of states, and also\n",
    "# de-select the states that you just queried. Query 5 states at a time.\n",
    "request_tab = driver.find_element_by_name(\"tab-request\")\n",
    "request_tab.click()\n",
    "time.sleep(5)"
   ]
  },
  {
   "cell_type": "markdown",
   "metadata": {},
   "source": [
    "## Start loop to finish queries for all states\n",
    "\n",
    "Now that the appropriate dataframe has been started, we can loop through states_by_five and finish the queries for all of the other 45 states. We will temporarily store the results for these tables in a temporary dataframe, and then concatenate it to the original od_mort_df."
   ]
  },
  {
   "cell_type": "code",
   "execution_count": 19,
   "metadata": {},
   "outputs": [],
   "source": [
    "for i in range(1, len(states_by_five)):\n",
    "\n",
    "    select_location = Select(driver.find_element_by_id(\"codes-D77.V9\"))\n",
    "\n",
    "    # deselect all the previous location values\n",
    "    for location_value in location_values:\n",
    "        select_location.deselect_by_value(location_value)\n",
    "\n",
    "    # Get a new set of location values.\n",
    "    location_values = [search_dict_values(location_dict, state) for state in states_by_five[i]]\n",
    "\n",
    "    for location_value in location_values:\n",
    "        select_location.select_by_value(location_value)\n",
    "        \n",
    "    # Submit this request to the last send button on the page, so that all of the criteria are included.\n",
    "    send_button = driver.find_element_by_xpath(\"//div[@class='footer-buttons']/input\")\n",
    "    send_button.click()\n",
    "    \n",
    "    time.sleep(10)\n",
    "    \n",
    "    temp_od_mort_df = get_od_mort_df(driver)\n",
    "    \n",
    "    od_mort_df = pd.concat([od_mort_df, temp_od_mort_df], ignore_index=True)\n",
    "    \n",
    "    # After you are done parsing the results, then you can click back to the request page in order to\n",
    "    # re-run the request, except this time you are going to pick a different set of states, and also\n",
    "    # de-select the states that you just queried. Query 5 states at a time.\n",
    "    request_tab = driver.find_element_by_name(\"tab-request\")\n",
    "    request_tab.click()\n",
    "    time.sleep(5)"
   ]
  },
  {
   "cell_type": "code",
   "execution_count": 20,
   "metadata": {},
   "outputs": [],
   "source": [
    "driver.close()"
   ]
  },
  {
   "cell_type": "code",
   "execution_count": 21,
   "metadata": {},
   "outputs": [
    {
     "data": {
      "text/html": [
       "<div>\n",
       "<style scoped>\n",
       "    .dataframe tbody tr th:only-of-type {\n",
       "        vertical-align: middle;\n",
       "    }\n",
       "\n",
       "    .dataframe tbody tr th {\n",
       "        vertical-align: top;\n",
       "    }\n",
       "\n",
       "    .dataframe thead th {\n",
       "        text-align: right;\n",
       "    }\n",
       "</style>\n",
       "<table border=\"1\" class=\"dataframe\">\n",
       "  <thead>\n",
       "    <tr style=\"text-align: right;\">\n",
       "      <th></th>\n",
       "      <th>county_name</th>\n",
       "      <th>overdose_deaths</th>\n",
       "      <th>population</th>\n",
       "      <th>crude_rate</th>\n",
       "      <th>age_adj_rate</th>\n",
       "      <th>INCITS</th>\n",
       "    </tr>\n",
       "  </thead>\n",
       "  <tbody>\n",
       "    <tr>\n",
       "      <th>0</th>\n",
       "      <td>Autauga County AL (01001)</td>\n",
       "      <td>Suppressed</td>\n",
       "      <td>55416</td>\n",
       "      <td>Suppressed</td>\n",
       "      <td>Suppressed</td>\n",
       "      <td>01001</td>\n",
       "    </tr>\n",
       "    <tr>\n",
       "      <th>1</th>\n",
       "      <td>Baldwin County AL (01003)</td>\n",
       "      <td>34</td>\n",
       "      <td>208563</td>\n",
       "      <td>16.3</td>\n",
       "      <td>15.7</td>\n",
       "      <td>01003</td>\n",
       "    </tr>\n",
       "    <tr>\n",
       "      <th>2</th>\n",
       "      <td>Barbour County AL (01005)</td>\n",
       "      <td>Suppressed</td>\n",
       "      <td>25965</td>\n",
       "      <td>Suppressed</td>\n",
       "      <td>Suppressed</td>\n",
       "      <td>01005</td>\n",
       "    </tr>\n",
       "    <tr>\n",
       "      <th>3</th>\n",
       "      <td>Bibb County AL (01007)</td>\n",
       "      <td>Suppressed</td>\n",
       "      <td>22643</td>\n",
       "      <td>Suppressed</td>\n",
       "      <td>Suppressed</td>\n",
       "      <td>01007</td>\n",
       "    </tr>\n",
       "    <tr>\n",
       "      <th>4</th>\n",
       "      <td>Blount County AL (01009)</td>\n",
       "      <td>15</td>\n",
       "      <td>57704</td>\n",
       "      <td>Unreliable</td>\n",
       "      <td>Unreliable</td>\n",
       "      <td>01009</td>\n",
       "    </tr>\n",
       "  </tbody>\n",
       "</table>\n",
       "</div>"
      ],
      "text/plain": [
       "                 county_name overdose_deaths population  crude_rate  \\\n",
       "0  Autauga County AL (01001)      Suppressed      55416  Suppressed   \n",
       "1  Baldwin County AL (01003)              34     208563        16.3   \n",
       "2  Barbour County AL (01005)      Suppressed      25965  Suppressed   \n",
       "3     Bibb County AL (01007)      Suppressed      22643  Suppressed   \n",
       "4   Blount County AL (01009)              15      57704  Unreliable   \n",
       "\n",
       "  age_adj_rate INCITS  \n",
       "0   Suppressed  01001  \n",
       "1         15.7  01003  \n",
       "2   Suppressed  01005  \n",
       "3   Suppressed  01007  \n",
       "4   Unreliable  01009  "
      ]
     },
     "execution_count": 21,
     "metadata": {},
     "output_type": "execute_result"
    }
   ],
   "source": [
    "od_mort_df.head()"
   ]
  },
  {
   "cell_type": "code",
   "execution_count": 22,
   "metadata": {},
   "outputs": [],
   "source": [
    "# save od_mort_df dataframe to pickle.\n",
    "#with open(\"od_mort_df.pkl\", \"wb\") as picklefile:\n",
    "#    pickle.dump(od_mort_df, picklefile)"
   ]
  },
  {
   "cell_type": "code",
   "execution_count": 23,
   "metadata": {},
   "outputs": [],
   "source": [
    "#with open(\"od_mort_df.pkl\", 'rb') as picklefile: # again, rb stands for read binary\n",
    "#    od_mort_df = pickle.load(picklefile)"
   ]
  },
  {
   "cell_type": "code",
   "execution_count": 24,
   "metadata": {},
   "outputs": [],
   "source": [
    "#od_mort_df.shape --> # shape without suppressed and zero rows is (1000, 6)"
   ]
  },
  {
   "cell_type": "code",
   "execution_count": 27,
   "metadata": {},
   "outputs": [
    {
     "name": "stdout",
     "output_type": "stream",
     "text": [
      "(3147, 6)\n",
      "(3142, 3)\n"
     ]
    }
   ],
   "source": [
    "print(od_mort_df.shape) # you have a difference of 5 counties; you should compare INCITS to figure out what's different.\n",
    "print(county_df.shape)"
   ]
  },
  {
   "cell_type": "code",
   "execution_count": 26,
   "metadata": {},
   "outputs": [],
   "source": [
    "# save od_mort_df dataframe to pickle.\n",
    "with open(\"od_mort_df.pkl\", \"wb\") as picklefile:\n",
    "    pickle.dump(od_mort_df, picklefile)"
   ]
  },
  {
   "cell_type": "code",
   "execution_count": 33,
   "metadata": {},
   "outputs": [
    {
     "data": {
      "text/html": [
       "<div>\n",
       "<style scoped>\n",
       "    .dataframe tbody tr th:only-of-type {\n",
       "        vertical-align: middle;\n",
       "    }\n",
       "\n",
       "    .dataframe tbody tr th {\n",
       "        vertical-align: top;\n",
       "    }\n",
       "\n",
       "    .dataframe thead th {\n",
       "        text-align: right;\n",
       "    }\n",
       "</style>\n",
       "<table border=\"1\" class=\"dataframe\">\n",
       "  <thead>\n",
       "    <tr style=\"text-align: right;\">\n",
       "      <th></th>\n",
       "      <th>county_name</th>\n",
       "      <th>overdose_deaths</th>\n",
       "      <th>population</th>\n",
       "      <th>crude_rate</th>\n",
       "      <th>age_adj_rate</th>\n",
       "      <th>INCITS</th>\n",
       "    </tr>\n",
       "  </thead>\n",
       "  <tbody>\n",
       "    <tr>\n",
       "      <th>0</th>\n",
       "      <td>Autauga County AL (01001)</td>\n",
       "      <td>Suppressed</td>\n",
       "      <td>55416</td>\n",
       "      <td>Suppressed</td>\n",
       "      <td>Suppressed</td>\n",
       "      <td>01001</td>\n",
       "    </tr>\n",
       "    <tr>\n",
       "      <th>1</th>\n",
       "      <td>Baldwin County AL (01003)</td>\n",
       "      <td>34</td>\n",
       "      <td>208563</td>\n",
       "      <td>16.3</td>\n",
       "      <td>15.7</td>\n",
       "      <td>01003</td>\n",
       "    </tr>\n",
       "    <tr>\n",
       "      <th>2</th>\n",
       "      <td>Barbour County AL (01005)</td>\n",
       "      <td>Suppressed</td>\n",
       "      <td>25965</td>\n",
       "      <td>Suppressed</td>\n",
       "      <td>Suppressed</td>\n",
       "      <td>01005</td>\n",
       "    </tr>\n",
       "    <tr>\n",
       "      <th>3</th>\n",
       "      <td>Bibb County AL (01007)</td>\n",
       "      <td>Suppressed</td>\n",
       "      <td>22643</td>\n",
       "      <td>Suppressed</td>\n",
       "      <td>Suppressed</td>\n",
       "      <td>01007</td>\n",
       "    </tr>\n",
       "    <tr>\n",
       "      <th>4</th>\n",
       "      <td>Blount County AL (01009)</td>\n",
       "      <td>15</td>\n",
       "      <td>57704</td>\n",
       "      <td>Unreliable</td>\n",
       "      <td>Unreliable</td>\n",
       "      <td>01009</td>\n",
       "    </tr>\n",
       "  </tbody>\n",
       "</table>\n",
       "</div>"
      ],
      "text/plain": [
       "                 county_name overdose_deaths population  crude_rate  \\\n",
       "0  Autauga County AL (01001)      Suppressed      55416  Suppressed   \n",
       "1  Baldwin County AL (01003)              34     208563        16.3   \n",
       "2  Barbour County AL (01005)      Suppressed      25965  Suppressed   \n",
       "3     Bibb County AL (01007)      Suppressed      22643  Suppressed   \n",
       "4   Blount County AL (01009)              15      57704  Unreliable   \n",
       "\n",
       "  age_adj_rate INCITS  \n",
       "0   Suppressed  01001  \n",
       "1         15.7  01003  \n",
       "2   Suppressed  01005  \n",
       "3   Suppressed  01007  \n",
       "4   Unreliable  01009  "
      ]
     },
     "execution_count": 33,
     "metadata": {},
     "output_type": "execute_result"
    }
   ],
   "source": [
    "od_mort_df.head()"
   ]
  },
  {
   "cell_type": "code",
   "execution_count": 36,
   "metadata": {},
   "outputs": [
    {
     "data": {
      "text/plain": [
       "{'02158', '46102'}"
      ]
     },
     "execution_count": 36,
     "metadata": {},
     "output_type": "execute_result"
    }
   ],
   "source": [
    "set(county_df.INCITS).difference(set(od_mort_df.INCITS))"
   ]
  },
  {
   "cell_type": "code",
   "execution_count": 37,
   "metadata": {},
   "outputs": [
    {
     "data": {
      "text/html": [
       "<div>\n",
       "<style scoped>\n",
       "    .dataframe tbody tr th:only-of-type {\n",
       "        vertical-align: middle;\n",
       "    }\n",
       "\n",
       "    .dataframe tbody tr th {\n",
       "        vertical-align: top;\n",
       "    }\n",
       "\n",
       "    .dataframe thead th {\n",
       "        text-align: right;\n",
       "    }\n",
       "</style>\n",
       "<table border=\"1\" class=\"dataframe\">\n",
       "  <thead>\n",
       "    <tr style=\"text-align: right;\">\n",
       "      <th></th>\n",
       "      <th>INCITS</th>\n",
       "      <th>county_name</th>\n",
       "      <th>state</th>\n",
       "    </tr>\n",
       "  </thead>\n",
       "  <tbody>\n",
       "    <tr>\n",
       "      <th>92</th>\n",
       "      <td>02158</td>\n",
       "      <td>Kusilvak Census Area[10]</td>\n",
       "      <td>Alaska</td>\n",
       "    </tr>\n",
       "  </tbody>\n",
       "</table>\n",
       "</div>"
      ],
      "text/plain": [
       "   INCITS               county_name   state\n",
       "92  02158  Kusilvak Census Area[10]  Alaska"
      ]
     },
     "execution_count": 37,
     "metadata": {},
     "output_type": "execute_result"
    }
   ],
   "source": [
    "county_df[county_df.INCITS == '02158']"
   ]
  },
  {
   "cell_type": "code",
   "execution_count": 38,
   "metadata": {},
   "outputs": [
    {
     "data": {
      "text/html": [
       "<div>\n",
       "<style scoped>\n",
       "    .dataframe tbody tr th:only-of-type {\n",
       "        vertical-align: middle;\n",
       "    }\n",
       "\n",
       "    .dataframe tbody tr th {\n",
       "        vertical-align: top;\n",
       "    }\n",
       "\n",
       "    .dataframe thead th {\n",
       "        text-align: right;\n",
       "    }\n",
       "</style>\n",
       "<table border=\"1\" class=\"dataframe\">\n",
       "  <thead>\n",
       "    <tr style=\"text-align: right;\">\n",
       "      <th></th>\n",
       "      <th>INCITS</th>\n",
       "      <th>county_name</th>\n",
       "      <th>state</th>\n",
       "    </tr>\n",
       "  </thead>\n",
       "  <tbody>\n",
       "    <tr>\n",
       "      <th>2500</th>\n",
       "      <td>46102</td>\n",
       "      <td>Oglala Lakota County</td>\n",
       "      <td>South Dakota</td>\n",
       "    </tr>\n",
       "  </tbody>\n",
       "</table>\n",
       "</div>"
      ],
      "text/plain": [
       "     INCITS           county_name         state\n",
       "2500  46102  Oglala Lakota County  South Dakota"
      ]
     },
     "execution_count": 38,
     "metadata": {},
     "output_type": "execute_result"
    }
   ],
   "source": [
    "county_df[county_df.INCITS == '46102']"
   ]
  }
 ],
 "metadata": {
  "kernelspec": {
   "display_name": "Python 3",
   "language": "python",
   "name": "python3"
  },
  "language_info": {
   "codemirror_mode": {
    "name": "ipython",
    "version": 3
   },
   "file_extension": ".py",
   "mimetype": "text/x-python",
   "name": "python",
   "nbconvert_exporter": "python",
   "pygments_lexer": "ipython3",
   "version": "3.6.5"
  }
 },
 "nbformat": 4,
 "nbformat_minor": 2
}
