{
 "cells": [
  {
   "cell_type": "markdown",
   "metadata": {},
   "source": [
    "## County FIPS codes from census\n",
    "\n",
    "This is loading the FIPS codes from an excel spreadsheet downloaded from a US Census website; it's probably more accurate than wikipedia. This notebook gets the county FIPS/INCITS codes and also all the states with their state code, and puts them into a county dataframe and also a state dataframe. It also gets a list of all the states as strings. It stores the list of states, the state dataframe, and the county dataframe in a pickle."
   ]
  },
  {
   "cell_type": "code",
   "execution_count": 1,
   "metadata": {},
   "outputs": [],
   "source": [
    "import pandas as pd\n",
    "import pickle"
   ]
  },
  {
   "cell_type": "code",
   "execution_count": 2,
   "metadata": {},
   "outputs": [],
   "source": [
    "file_name = \"all-geocodes-v2016.xlsx\"\n",
    "df = pd.read_excel(io=file_name)"
   ]
  },
  {
   "cell_type": "code",
   "execution_count": 3,
   "metadata": {},
   "outputs": [
    {
     "data": {
      "text/html": [
       "<div>\n",
       "<style scoped>\n",
       "    .dataframe tbody tr th:only-of-type {\n",
       "        vertical-align: middle;\n",
       "    }\n",
       "\n",
       "    .dataframe tbody tr th {\n",
       "        vertical-align: top;\n",
       "    }\n",
       "\n",
       "    .dataframe thead th {\n",
       "        text-align: right;\n",
       "    }\n",
       "</style>\n",
       "<table border=\"1\" class=\"dataframe\">\n",
       "  <thead>\n",
       "    <tr style=\"text-align: right;\">\n",
       "      <th></th>\n",
       "      <th>Estimates Geography File: Vintage 2016</th>\n",
       "      <th>Unnamed: 1</th>\n",
       "      <th>Unnamed: 2</th>\n",
       "      <th>Unnamed: 3</th>\n",
       "      <th>Unnamed: 4</th>\n",
       "      <th>Unnamed: 5</th>\n",
       "      <th>Unnamed: 6</th>\n",
       "    </tr>\n",
       "  </thead>\n",
       "  <tbody>\n",
       "    <tr>\n",
       "      <th>0</th>\n",
       "      <td>Source: U.S. Census Bureau, Population Division</td>\n",
       "      <td>NaN</td>\n",
       "      <td>NaN</td>\n",
       "      <td>NaN</td>\n",
       "      <td>NaN</td>\n",
       "      <td>NaN</td>\n",
       "      <td>NaN</td>\n",
       "    </tr>\n",
       "    <tr>\n",
       "      <th>1</th>\n",
       "      <td>Internet Release Date: May 2017</td>\n",
       "      <td>NaN</td>\n",
       "      <td>NaN</td>\n",
       "      <td>NaN</td>\n",
       "      <td>NaN</td>\n",
       "      <td>NaN</td>\n",
       "      <td>NaN</td>\n",
       "    </tr>\n",
       "    <tr>\n",
       "      <th>2</th>\n",
       "      <td>NaN</td>\n",
       "      <td>NaN</td>\n",
       "      <td>NaN</td>\n",
       "      <td>NaN</td>\n",
       "      <td>NaN</td>\n",
       "      <td>NaN</td>\n",
       "      <td>NaN</td>\n",
       "    </tr>\n",
       "    <tr>\n",
       "      <th>3</th>\n",
       "      <td>Summary Level</td>\n",
       "      <td>State Code (FIPS)</td>\n",
       "      <td>County Code (FIPS)</td>\n",
       "      <td>County Subdivision Code (FIPS)</td>\n",
       "      <td>Place Code (FIPS)</td>\n",
       "      <td>Consolidtated City Code (FIPS)</td>\n",
       "      <td>Area Name (including legal/statistical area de...</td>\n",
       "    </tr>\n",
       "    <tr>\n",
       "      <th>4</th>\n",
       "      <td>010</td>\n",
       "      <td>00</td>\n",
       "      <td>000</td>\n",
       "      <td>00000</td>\n",
       "      <td>00000</td>\n",
       "      <td>00000</td>\n",
       "      <td>United States</td>\n",
       "    </tr>\n",
       "  </tbody>\n",
       "</table>\n",
       "</div>"
      ],
      "text/plain": [
       "            Estimates Geography File: Vintage 2016         Unnamed: 1  \\\n",
       "0  Source: U.S. Census Bureau, Population Division                NaN   \n",
       "1                  Internet Release Date: May 2017                NaN   \n",
       "2                                              NaN                NaN   \n",
       "3                                    Summary Level  State Code (FIPS)   \n",
       "4                                              010                 00   \n",
       "\n",
       "           Unnamed: 2                      Unnamed: 3         Unnamed: 4  \\\n",
       "0                 NaN                             NaN                NaN   \n",
       "1                 NaN                             NaN                NaN   \n",
       "2                 NaN                             NaN                NaN   \n",
       "3  County Code (FIPS)  County Subdivision Code (FIPS)  Place Code (FIPS)   \n",
       "4                 000                           00000              00000   \n",
       "\n",
       "                       Unnamed: 5  \\\n",
       "0                             NaN   \n",
       "1                             NaN   \n",
       "2                             NaN   \n",
       "3  Consolidtated City Code (FIPS)   \n",
       "4                           00000   \n",
       "\n",
       "                                          Unnamed: 6  \n",
       "0                                                NaN  \n",
       "1                                                NaN  \n",
       "2                                                NaN  \n",
       "3  Area Name (including legal/statistical area de...  \n",
       "4                                      United States  "
      ]
     },
     "execution_count": 3,
     "metadata": {},
     "output_type": "execute_result"
    }
   ],
   "source": [
    "df.head()"
   ]
  },
  {
   "cell_type": "code",
   "execution_count": 4,
   "metadata": {},
   "outputs": [
    {
     "data": {
      "text/plain": [
       "{'Estimates Geography File: Vintage 2016': 'Summary Level',\n",
       " 'Unnamed: 1': 'State Code (FIPS)',\n",
       " 'Unnamed: 2': 'County Code (FIPS)',\n",
       " 'Unnamed: 3': 'County Subdivision Code (FIPS)',\n",
       " 'Unnamed: 4': 'Place Code (FIPS)',\n",
       " 'Unnamed: 5': 'Consolidtated City Code (FIPS)',\n",
       " 'Unnamed: 6': 'Area Name (including legal/statistical area description)'}"
      ]
     },
     "execution_count": 4,
     "metadata": {},
     "output_type": "execute_result"
    }
   ],
   "source": [
    "desired_column_names = list(df.iloc[3])\n",
    "current_column_names = df.columns\n",
    "col_dict = dict(zip(current_column_names, desired_column_names))\n",
    "col_dict"
   ]
  },
  {
   "cell_type": "code",
   "execution_count": 5,
   "metadata": {},
   "outputs": [
    {
     "data": {
      "text/plain": [
       "{'Estimates Geography File: Vintage 2016': 'Summary Level',\n",
       " 'Unnamed: 1': 'state_code',\n",
       " 'Unnamed: 2': 'county_code',\n",
       " 'Unnamed: 3': 'County Subdivision Code (FIPS)',\n",
       " 'Unnamed: 4': 'Place Code (FIPS)',\n",
       " 'Unnamed: 5': 'Consolidtated City Code (FIPS)',\n",
       " 'Unnamed: 6': 'name'}"
      ]
     },
     "execution_count": 5,
     "metadata": {},
     "output_type": "execute_result"
    }
   ],
   "source": [
    "# We'll clean up the column names that we're going to keep in the long run so that they're easier to refer to.\n",
    "col_dict['Unnamed: 1'] = 'state_code'\n",
    "col_dict['Unnamed: 2'] = 'county_code'\n",
    "col_dict['Unnamed: 6'] = 'name'\n",
    "col_dict"
   ]
  },
  {
   "cell_type": "code",
   "execution_count": 6,
   "metadata": {},
   "outputs": [],
   "source": [
    "clean_df = df.iloc[4:]\n",
    "clean_df = clean_df.rename(col_dict, axis='columns')"
   ]
  },
  {
   "cell_type": "code",
   "execution_count": 7,
   "metadata": {},
   "outputs": [
    {
     "data": {
      "text/html": [
       "<div>\n",
       "<style scoped>\n",
       "    .dataframe tbody tr th:only-of-type {\n",
       "        vertical-align: middle;\n",
       "    }\n",
       "\n",
       "    .dataframe tbody tr th {\n",
       "        vertical-align: top;\n",
       "    }\n",
       "\n",
       "    .dataframe thead th {\n",
       "        text-align: right;\n",
       "    }\n",
       "</style>\n",
       "<table border=\"1\" class=\"dataframe\">\n",
       "  <thead>\n",
       "    <tr style=\"text-align: right;\">\n",
       "      <th></th>\n",
       "      <th>Summary Level</th>\n",
       "      <th>state_code</th>\n",
       "      <th>county_code</th>\n",
       "      <th>County Subdivision Code (FIPS)</th>\n",
       "      <th>Place Code (FIPS)</th>\n",
       "      <th>Consolidtated City Code (FIPS)</th>\n",
       "      <th>name</th>\n",
       "    </tr>\n",
       "  </thead>\n",
       "  <tbody>\n",
       "    <tr>\n",
       "      <th>4</th>\n",
       "      <td>010</td>\n",
       "      <td>00</td>\n",
       "      <td>000</td>\n",
       "      <td>00000</td>\n",
       "      <td>00000</td>\n",
       "      <td>00000</td>\n",
       "      <td>United States</td>\n",
       "    </tr>\n",
       "    <tr>\n",
       "      <th>5</th>\n",
       "      <td>040</td>\n",
       "      <td>01</td>\n",
       "      <td>000</td>\n",
       "      <td>00000</td>\n",
       "      <td>00000</td>\n",
       "      <td>00000</td>\n",
       "      <td>Alabama</td>\n",
       "    </tr>\n",
       "    <tr>\n",
       "      <th>6</th>\n",
       "      <td>050</td>\n",
       "      <td>01</td>\n",
       "      <td>001</td>\n",
       "      <td>00000</td>\n",
       "      <td>00000</td>\n",
       "      <td>00000</td>\n",
       "      <td>Autauga County</td>\n",
       "    </tr>\n",
       "    <tr>\n",
       "      <th>7</th>\n",
       "      <td>050</td>\n",
       "      <td>01</td>\n",
       "      <td>003</td>\n",
       "      <td>00000</td>\n",
       "      <td>00000</td>\n",
       "      <td>00000</td>\n",
       "      <td>Baldwin County</td>\n",
       "    </tr>\n",
       "    <tr>\n",
       "      <th>8</th>\n",
       "      <td>050</td>\n",
       "      <td>01</td>\n",
       "      <td>005</td>\n",
       "      <td>00000</td>\n",
       "      <td>00000</td>\n",
       "      <td>00000</td>\n",
       "      <td>Barbour County</td>\n",
       "    </tr>\n",
       "  </tbody>\n",
       "</table>\n",
       "</div>"
      ],
      "text/plain": [
       "  Summary Level state_code county_code County Subdivision Code (FIPS)  \\\n",
       "4           010         00         000                          00000   \n",
       "5           040         01         000                          00000   \n",
       "6           050         01         001                          00000   \n",
       "7           050         01         003                          00000   \n",
       "8           050         01         005                          00000   \n",
       "\n",
       "  Place Code (FIPS) Consolidtated City Code (FIPS)            name  \n",
       "4             00000                          00000   United States  \n",
       "5             00000                          00000         Alabama  \n",
       "6             00000                          00000  Autauga County  \n",
       "7             00000                          00000  Baldwin County  \n",
       "8             00000                          00000  Barbour County  "
      ]
     },
     "execution_count": 7,
     "metadata": {},
     "output_type": "execute_result"
    }
   ],
   "source": [
    "clean_df.head()"
   ]
  },
  {
   "cell_type": "code",
   "execution_count": 8,
   "metadata": {},
   "outputs": [],
   "source": [
    "county_df = clean_df[clean_df['Summary Level'] == '050']\n",
    "state_df = clean_df[clean_df['Summary Level'] == '040']"
   ]
  },
  {
   "cell_type": "code",
   "execution_count": 9,
   "metadata": {},
   "outputs": [
    {
     "data": {
      "text/html": [
       "<div>\n",
       "<style scoped>\n",
       "    .dataframe tbody tr th:only-of-type {\n",
       "        vertical-align: middle;\n",
       "    }\n",
       "\n",
       "    .dataframe tbody tr th {\n",
       "        vertical-align: top;\n",
       "    }\n",
       "\n",
       "    .dataframe thead th {\n",
       "        text-align: right;\n",
       "    }\n",
       "</style>\n",
       "<table border=\"1\" class=\"dataframe\">\n",
       "  <thead>\n",
       "    <tr style=\"text-align: right;\">\n",
       "      <th></th>\n",
       "      <th>Summary Level</th>\n",
       "      <th>state_code</th>\n",
       "      <th>county_code</th>\n",
       "      <th>County Subdivision Code (FIPS)</th>\n",
       "      <th>Place Code (FIPS)</th>\n",
       "      <th>Consolidtated City Code (FIPS)</th>\n",
       "      <th>name</th>\n",
       "    </tr>\n",
       "  </thead>\n",
       "  <tbody>\n",
       "    <tr>\n",
       "      <th>43933</th>\n",
       "      <td>050</td>\n",
       "      <td>72</td>\n",
       "      <td>145</td>\n",
       "      <td>00000</td>\n",
       "      <td>00000</td>\n",
       "      <td>00000</td>\n",
       "      <td>Vega Baja Municipio</td>\n",
       "    </tr>\n",
       "    <tr>\n",
       "      <th>43934</th>\n",
       "      <td>050</td>\n",
       "      <td>72</td>\n",
       "      <td>147</td>\n",
       "      <td>00000</td>\n",
       "      <td>00000</td>\n",
       "      <td>00000</td>\n",
       "      <td>Vieques Municipio</td>\n",
       "    </tr>\n",
       "    <tr>\n",
       "      <th>43935</th>\n",
       "      <td>050</td>\n",
       "      <td>72</td>\n",
       "      <td>149</td>\n",
       "      <td>00000</td>\n",
       "      <td>00000</td>\n",
       "      <td>00000</td>\n",
       "      <td>Villalba Municipio</td>\n",
       "    </tr>\n",
       "    <tr>\n",
       "      <th>43936</th>\n",
       "      <td>050</td>\n",
       "      <td>72</td>\n",
       "      <td>151</td>\n",
       "      <td>00000</td>\n",
       "      <td>00000</td>\n",
       "      <td>00000</td>\n",
       "      <td>Yabucoa Municipio</td>\n",
       "    </tr>\n",
       "    <tr>\n",
       "      <th>43937</th>\n",
       "      <td>050</td>\n",
       "      <td>72</td>\n",
       "      <td>153</td>\n",
       "      <td>00000</td>\n",
       "      <td>00000</td>\n",
       "      <td>00000</td>\n",
       "      <td>Yauco Municipio</td>\n",
       "    </tr>\n",
       "  </tbody>\n",
       "</table>\n",
       "</div>"
      ],
      "text/plain": [
       "      Summary Level state_code county_code County Subdivision Code (FIPS)  \\\n",
       "43933           050         72         145                          00000   \n",
       "43934           050         72         147                          00000   \n",
       "43935           050         72         149                          00000   \n",
       "43936           050         72         151                          00000   \n",
       "43937           050         72         153                          00000   \n",
       "\n",
       "      Place Code (FIPS) Consolidtated City Code (FIPS)                 name  \n",
       "43933             00000                          00000  Vega Baja Municipio  \n",
       "43934             00000                          00000    Vieques Municipio  \n",
       "43935             00000                          00000   Villalba Municipio  \n",
       "43936             00000                          00000    Yabucoa Municipio  \n",
       "43937             00000                          00000      Yauco Municipio  "
      ]
     },
     "execution_count": 9,
     "metadata": {},
     "output_type": "execute_result"
    }
   ],
   "source": [
    "county_df.tail()"
   ]
  },
  {
   "cell_type": "code",
   "execution_count": 11,
   "metadata": {},
   "outputs": [
    {
     "name": "stdout",
     "output_type": "stream",
     "text": [
      "['Alabama' 'Alaska' 'Arizona' 'Arkansas' 'California' 'Colorado'\n",
      " 'Connecticut' 'Delaware' 'District of Columbia' 'Florida' 'Georgia'\n",
      " 'Hawaii' 'Idaho' 'Illinois' 'Indiana' 'Iowa' 'Kansas' 'Kentucky'\n",
      " 'Louisiana' 'Maine' 'Maryland' 'Massachusetts' 'Michigan' 'Minnesota'\n",
      " 'Mississippi' 'Missouri' 'Montana' 'Nebraska' 'Nevada' 'New Hampshire'\n",
      " 'New Jersey' 'New Mexico' 'New York' 'North Carolina' 'North Dakota'\n",
      " 'Ohio' 'Oklahoma' 'Oregon' 'Pennsylvania' 'Rhode Island' 'South Carolina'\n",
      " 'South Dakota' 'Tennessee' 'Texas' 'Utah' 'Vermont' 'Virginia'\n",
      " 'Washington' 'West Virginia' 'Wisconsin' 'Wyoming' 'Puerto Rico']\n"
     ]
    },
    {
     "data": {
      "text/html": [
       "<div>\n",
       "<style scoped>\n",
       "    .dataframe tbody tr th:only-of-type {\n",
       "        vertical-align: middle;\n",
       "    }\n",
       "\n",
       "    .dataframe tbody tr th {\n",
       "        vertical-align: top;\n",
       "    }\n",
       "\n",
       "    .dataframe thead th {\n",
       "        text-align: right;\n",
       "    }\n",
       "</style>\n",
       "<table border=\"1\" class=\"dataframe\">\n",
       "  <thead>\n",
       "    <tr style=\"text-align: right;\">\n",
       "      <th></th>\n",
       "      <th>Summary Level</th>\n",
       "      <th>state_code</th>\n",
       "      <th>county_code</th>\n",
       "      <th>County Subdivision Code (FIPS)</th>\n",
       "      <th>Place Code (FIPS)</th>\n",
       "      <th>Consolidtated City Code (FIPS)</th>\n",
       "      <th>name</th>\n",
       "    </tr>\n",
       "  </thead>\n",
       "  <tbody>\n",
       "    <tr>\n",
       "      <th>43859</th>\n",
       "      <td>040</td>\n",
       "      <td>72</td>\n",
       "      <td>000</td>\n",
       "      <td>00000</td>\n",
       "      <td>00000</td>\n",
       "      <td>00000</td>\n",
       "      <td>Puerto Rico</td>\n",
       "    </tr>\n",
       "  </tbody>\n",
       "</table>\n",
       "</div>"
      ],
      "text/plain": [
       "      Summary Level state_code county_code County Subdivision Code (FIPS)  \\\n",
       "43859           040         72         000                          00000   \n",
       "\n",
       "      Place Code (FIPS) Consolidtated City Code (FIPS)         name  \n",
       "43859             00000                          00000  Puerto Rico  "
      ]
     },
     "execution_count": 11,
     "metadata": {},
     "output_type": "execute_result"
    }
   ],
   "source": [
    "# This table includes Puerto Rico. The state code for PR is 72, so we'll drop that.\n",
    "print(state_df[\"name\"].unique())\n",
    "state_df[state_df[\"name\"] == 'Puerto Rico']"
   ]
  },
  {
   "cell_type": "code",
   "execution_count": 12,
   "metadata": {},
   "outputs": [],
   "source": [
    "# Take out PR from both county and state dataframes.\n",
    "county_df = county_df[county_df[\"state_code\"] != \"72\"]\n",
    "state_df = state_df[state_df[\"state_code\"] != \"72\"]"
   ]
  },
  {
   "cell_type": "code",
   "execution_count": 13,
   "metadata": {},
   "outputs": [
    {
     "data": {
      "text/plain": [
       "(3142, 7)"
      ]
     },
     "execution_count": 13,
     "metadata": {},
     "output_type": "execute_result"
    }
   ],
   "source": [
    "county_df.shape"
   ]
  },
  {
   "cell_type": "code",
   "execution_count": 14,
   "metadata": {},
   "outputs": [],
   "source": [
    "states = state_df[\"name\"].unique()"
   ]
  },
  {
   "cell_type": "code",
   "execution_count": 15,
   "metadata": {},
   "outputs": [
    {
     "data": {
      "text/plain": [
       "['Summary Level',\n",
       " 'County Subdivision Code (FIPS)',\n",
       " 'Place Code (FIPS)',\n",
       " 'Consolidtated City Code (FIPS)']"
      ]
     },
     "execution_count": 15,
     "metadata": {},
     "output_type": "execute_result"
    }
   ],
   "source": [
    "unnecessary_columns = [0, 3, 4, 5]\n",
    "\n",
    "drop_columns = [desired_column_names[num] for num in unnecessary_columns]\n",
    "drop_columns"
   ]
  },
  {
   "cell_type": "code",
   "execution_count": 16,
   "metadata": {},
   "outputs": [],
   "source": [
    "# Let's drop unnecessary columns from both the county and state dataframes.\n",
    "county_df = county_df.drop(columns=drop_columns, axis=1)\n",
    "state_df = state_df.drop(columns=drop_columns, axis=1)"
   ]
  },
  {
   "cell_type": "code",
   "execution_count": 17,
   "metadata": {},
   "outputs": [
    {
     "data": {
      "text/html": [
       "<div>\n",
       "<style scoped>\n",
       "    .dataframe tbody tr th:only-of-type {\n",
       "        vertical-align: middle;\n",
       "    }\n",
       "\n",
       "    .dataframe tbody tr th {\n",
       "        vertical-align: top;\n",
       "    }\n",
       "\n",
       "    .dataframe thead th {\n",
       "        text-align: right;\n",
       "    }\n",
       "</style>\n",
       "<table border=\"1\" class=\"dataframe\">\n",
       "  <thead>\n",
       "    <tr style=\"text-align: right;\">\n",
       "      <th></th>\n",
       "      <th>state_code</th>\n",
       "      <th>county_code</th>\n",
       "      <th>name</th>\n",
       "    </tr>\n",
       "  </thead>\n",
       "  <tbody>\n",
       "    <tr>\n",
       "      <th>6</th>\n",
       "      <td>01</td>\n",
       "      <td>001</td>\n",
       "      <td>Autauga County</td>\n",
       "    </tr>\n",
       "    <tr>\n",
       "      <th>7</th>\n",
       "      <td>01</td>\n",
       "      <td>003</td>\n",
       "      <td>Baldwin County</td>\n",
       "    </tr>\n",
       "    <tr>\n",
       "      <th>8</th>\n",
       "      <td>01</td>\n",
       "      <td>005</td>\n",
       "      <td>Barbour County</td>\n",
       "    </tr>\n",
       "    <tr>\n",
       "      <th>9</th>\n",
       "      <td>01</td>\n",
       "      <td>007</td>\n",
       "      <td>Bibb County</td>\n",
       "    </tr>\n",
       "    <tr>\n",
       "      <th>10</th>\n",
       "      <td>01</td>\n",
       "      <td>009</td>\n",
       "      <td>Blount County</td>\n",
       "    </tr>\n",
       "  </tbody>\n",
       "</table>\n",
       "</div>"
      ],
      "text/plain": [
       "   state_code county_code            name\n",
       "6          01         001  Autauga County\n",
       "7          01         003  Baldwin County\n",
       "8          01         005  Barbour County\n",
       "9          01         007     Bibb County\n",
       "10         01         009   Blount County"
      ]
     },
     "execution_count": 17,
     "metadata": {},
     "output_type": "execute_result"
    }
   ],
   "source": [
    "county_df.head()"
   ]
  },
  {
   "cell_type": "code",
   "execution_count": 18,
   "metadata": {},
   "outputs": [
    {
     "data": {
      "text/html": [
       "<div>\n",
       "<style scoped>\n",
       "    .dataframe tbody tr th:only-of-type {\n",
       "        vertical-align: middle;\n",
       "    }\n",
       "\n",
       "    .dataframe tbody tr th {\n",
       "        vertical-align: top;\n",
       "    }\n",
       "\n",
       "    .dataframe thead th {\n",
       "        text-align: right;\n",
       "    }\n",
       "</style>\n",
       "<table border=\"1\" class=\"dataframe\">\n",
       "  <thead>\n",
       "    <tr style=\"text-align: right;\">\n",
       "      <th></th>\n",
       "      <th>state_code</th>\n",
       "      <th>county_code</th>\n",
       "      <th>name</th>\n",
       "    </tr>\n",
       "  </thead>\n",
       "  <tbody>\n",
       "    <tr>\n",
       "      <th>5</th>\n",
       "      <td>01</td>\n",
       "      <td>000</td>\n",
       "      <td>Alabama</td>\n",
       "    </tr>\n",
       "    <tr>\n",
       "      <th>534</th>\n",
       "      <td>02</td>\n",
       "      <td>000</td>\n",
       "      <td>Alaska</td>\n",
       "    </tr>\n",
       "    <tr>\n",
       "      <th>712</th>\n",
       "      <td>04</td>\n",
       "      <td>000</td>\n",
       "      <td>Arizona</td>\n",
       "    </tr>\n",
       "    <tr>\n",
       "      <th>819</th>\n",
       "      <td>05</td>\n",
       "      <td>000</td>\n",
       "      <td>Arkansas</td>\n",
       "    </tr>\n",
       "    <tr>\n",
       "      <th>1397</th>\n",
       "      <td>06</td>\n",
       "      <td>000</td>\n",
       "      <td>California</td>\n",
       "    </tr>\n",
       "  </tbody>\n",
       "</table>\n",
       "</div>"
      ],
      "text/plain": [
       "     state_code county_code        name\n",
       "5            01         000     Alabama\n",
       "534          02         000      Alaska\n",
       "712          04         000     Arizona\n",
       "819          05         000    Arkansas\n",
       "1397         06         000  California"
      ]
     },
     "execution_count": 18,
     "metadata": {},
     "output_type": "execute_result"
    }
   ],
   "source": [
    "state_df.head()"
   ]
  },
  {
   "cell_type": "code",
   "execution_count": 19,
   "metadata": {},
   "outputs": [],
   "source": [
    "# Let's reset indexes for each of these dataframes.\n",
    "county_df.reset_index(drop=True, inplace=True);\n",
    "state_df.reset_index(drop=True, inplace=True);"
   ]
  },
  {
   "cell_type": "code",
   "execution_count": 20,
   "metadata": {},
   "outputs": [
    {
     "data": {
      "text/html": [
       "<div>\n",
       "<style scoped>\n",
       "    .dataframe tbody tr th:only-of-type {\n",
       "        vertical-align: middle;\n",
       "    }\n",
       "\n",
       "    .dataframe tbody tr th {\n",
       "        vertical-align: top;\n",
       "    }\n",
       "\n",
       "    .dataframe thead th {\n",
       "        text-align: right;\n",
       "    }\n",
       "</style>\n",
       "<table border=\"1\" class=\"dataframe\">\n",
       "  <thead>\n",
       "    <tr style=\"text-align: right;\">\n",
       "      <th></th>\n",
       "      <th>state_code</th>\n",
       "      <th>county_code</th>\n",
       "      <th>name</th>\n",
       "    </tr>\n",
       "  </thead>\n",
       "  <tbody>\n",
       "    <tr>\n",
       "      <th>0</th>\n",
       "      <td>01</td>\n",
       "      <td>000</td>\n",
       "      <td>Alabama</td>\n",
       "    </tr>\n",
       "    <tr>\n",
       "      <th>1</th>\n",
       "      <td>02</td>\n",
       "      <td>000</td>\n",
       "      <td>Alaska</td>\n",
       "    </tr>\n",
       "    <tr>\n",
       "      <th>2</th>\n",
       "      <td>04</td>\n",
       "      <td>000</td>\n",
       "      <td>Arizona</td>\n",
       "    </tr>\n",
       "    <tr>\n",
       "      <th>3</th>\n",
       "      <td>05</td>\n",
       "      <td>000</td>\n",
       "      <td>Arkansas</td>\n",
       "    </tr>\n",
       "    <tr>\n",
       "      <th>4</th>\n",
       "      <td>06</td>\n",
       "      <td>000</td>\n",
       "      <td>California</td>\n",
       "    </tr>\n",
       "  </tbody>\n",
       "</table>\n",
       "</div>"
      ],
      "text/plain": [
       "  state_code county_code        name\n",
       "0         01         000     Alabama\n",
       "1         02         000      Alaska\n",
       "2         04         000     Arizona\n",
       "3         05         000    Arkansas\n",
       "4         06         000  California"
      ]
     },
     "execution_count": 20,
     "metadata": {},
     "output_type": "execute_result"
    }
   ],
   "source": [
    "state_df.head()"
   ]
  },
  {
   "cell_type": "code",
   "execution_count": 21,
   "metadata": {},
   "outputs": [
    {
     "data": {
      "text/plain": [
       "Index(['state_code', 'county_code', 'name'], dtype='object')"
      ]
     },
     "execution_count": 21,
     "metadata": {},
     "output_type": "execute_result"
    }
   ],
   "source": [
    "county_df.head()\n",
    "county_df.columns"
   ]
  },
  {
   "cell_type": "code",
   "execution_count": 22,
   "metadata": {},
   "outputs": [],
   "source": [
    "incits = county_df[['state_code', 'county_code']].apply(lambda x: ''.join(x), axis=1)\n",
    "county_df = county_df.assign(INCITS=incits.values)"
   ]
  },
  {
   "cell_type": "code",
   "execution_count": 23,
   "metadata": {},
   "outputs": [],
   "source": [
    "# save state dataframe county dataframe, and states to pickle.\n",
    "with open(\"statedf_countydf_states.pkl\", \"wb\") as picklefile:\n",
    "    pickle.dump([state_df, county_df, states], picklefile)"
   ]
  }
 ],
 "metadata": {
  "kernelspec": {
   "display_name": "Python 3",
   "language": "python",
   "name": "python3"
  },
  "language_info": {
   "codemirror_mode": {
    "name": "ipython",
    "version": 3
   },
   "file_extension": ".py",
   "mimetype": "text/x-python",
   "name": "python",
   "nbconvert_exporter": "python",
   "pygments_lexer": "ipython3",
   "version": "3.6.5"
  }
 },
 "nbformat": 4,
 "nbformat_minor": 2
}
