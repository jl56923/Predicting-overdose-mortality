{
 "cells": [
  {
   "cell_type": "markdown",
   "metadata": {},
   "source": [
    "## Obtaining other features"
   ]
  },
  {
   "cell_type": "markdown",
   "metadata": {},
   "source": [
    "### Opioid prescribing map, 2016\n",
    "https://www.cdc.gov/drugoverdose/maps/rxcounty2016.html"
   ]
  },
  {
   "cell_type": "code",
   "execution_count": 1,
   "metadata": {},
   "outputs": [],
   "source": [
    "import requests\n",
    "import pandas as pd\n",
    "import matplotlib.pyplot as plt\n",
    "import numpy as np\n",
    "import re\n",
    "import pickle\n",
    "import time\n",
    "\n",
    "from bs4 import BeautifulSoup"
   ]
  },
  {
   "cell_type": "code",
   "execution_count": 2,
   "metadata": {},
   "outputs": [],
   "source": [
    "prescription_map_2016_url = \"https://www.cdc.gov/drugoverdose/maps/rxcounty2016.html\"\n",
    "\n",
    "def get_rx_map(url):\n",
    "    response = requests.get(url)\n",
    "    page = response.text\n",
    "\n",
    "    soup = BeautifulSoup(page, \"html5lib\")\n",
    "\n",
    "    tables = soup.find_all(\"table\")\n",
    "\n",
    "    tables=soup.find_all(\"table\")\n",
    "    rows=[row for row in tables[0].find_all('tr')]\n",
    "\n",
    "    records = []\n",
    "\n",
    "    for row in rows:\n",
    "        cells = [cell.text for cell in row.find_all('td')]\n",
    "        records.append(cells)\n",
    "\n",
    "    records = records[1:]\n",
    "    records = [[r[1], r[2], r[3]] for r in records]\n",
    "    \n",
    "    return records"
   ]
  },
  {
   "cell_type": "code",
   "execution_count": 3,
   "metadata": {},
   "outputs": [],
   "source": [
    "rx_2016 = get_rx_map(prescription_map_2016_url)"
   ]
  },
  {
   "cell_type": "code",
   "execution_count": 4,
   "metadata": {},
   "outputs": [],
   "source": [
    "opioid_rx_df = pd.DataFrame(rx_2016, columns=[\"state\", \"INCITS\", \"opioid_rx_rate_2016\"])"
   ]
  },
  {
   "cell_type": "code",
   "execution_count": 5,
   "metadata": {},
   "outputs": [],
   "source": [
    "prescription_map_2015_url = \"https://www.cdc.gov/drugoverdose/maps/rxcounty2015.html\"\n",
    "\n",
    "rx_2015 = get_rx_map(prescription_map_2015_url)\n",
    "\n",
    "opioid_rx_2015 = pd.DataFrame(rx_2015, columns=[\"state\", \"INCITS\", \"opioid_rx_rate_2015\"])"
   ]
  },
  {
   "cell_type": "code",
   "execution_count": 6,
   "metadata": {},
   "outputs": [],
   "source": [
    "opioid_rx_df = pd.merge(opioid_rx_df, opioid_rx_2015[['INCITS','opioid_rx_rate_2015']], on='INCITS')"
   ]
  },
  {
   "cell_type": "code",
   "execution_count": 8,
   "metadata": {},
   "outputs": [],
   "source": [
    "prescription_map_2014_url = \"https://www.cdc.gov/drugoverdose/maps/rxcounty2014.html\"\n",
    "\n",
    "rx_2014 = get_rx_map(prescription_map_2014_url)\n",
    "\n",
    "opioid_rx_2014 = pd.DataFrame(rx_2014, columns=[\"state\", \"INCITS\", \"opioid_rx_rate_2014\"])\n",
    "\n",
    "opioid_rx_df = pd.merge(opioid_rx_df, opioid_rx_2014[['INCITS','opioid_rx_rate_2014']], on='INCITS')"
   ]
  },
  {
   "cell_type": "code",
   "execution_count": 10,
   "metadata": {},
   "outputs": [
    {
     "data": {
      "text/html": [
       "<div>\n",
       "<style scoped>\n",
       "    .dataframe tbody tr th:only-of-type {\n",
       "        vertical-align: middle;\n",
       "    }\n",
       "\n",
       "    .dataframe tbody tr th {\n",
       "        vertical-align: top;\n",
       "    }\n",
       "\n",
       "    .dataframe thead th {\n",
       "        text-align: right;\n",
       "    }\n",
       "</style>\n",
       "<table border=\"1\" class=\"dataframe\">\n",
       "  <thead>\n",
       "    <tr style=\"text-align: right;\">\n",
       "      <th></th>\n",
       "      <th>state</th>\n",
       "      <th>INCITS</th>\n",
       "      <th>opioid_rx_rate_2016</th>\n",
       "      <th>opioid_rx_rate_2015</th>\n",
       "      <th>opioid_rx_rate_2014</th>\n",
       "    </tr>\n",
       "  </thead>\n",
       "  <tbody>\n",
       "    <tr>\n",
       "      <th>0</th>\n",
       "      <td>AK</td>\n",
       "      <td>02013</td>\n",
       "      <td>–</td>\n",
       "      <td>–</td>\n",
       "      <td>–</td>\n",
       "    </tr>\n",
       "    <tr>\n",
       "      <th>1</th>\n",
       "      <td>AK</td>\n",
       "      <td>02016</td>\n",
       "      <td>–</td>\n",
       "      <td>–</td>\n",
       "      <td>–</td>\n",
       "    </tr>\n",
       "    <tr>\n",
       "      <th>2</th>\n",
       "      <td>AK</td>\n",
       "      <td>02020</td>\n",
       "      <td>66.3</td>\n",
       "      <td>68.2</td>\n",
       "      <td>68.0</td>\n",
       "    </tr>\n",
       "    <tr>\n",
       "      <th>3</th>\n",
       "      <td>AK</td>\n",
       "      <td>02050</td>\n",
       "      <td>–</td>\n",
       "      <td>–</td>\n",
       "      <td>–</td>\n",
       "    </tr>\n",
       "    <tr>\n",
       "      <th>4</th>\n",
       "      <td>AK</td>\n",
       "      <td>02060</td>\n",
       "      <td>–</td>\n",
       "      <td>–</td>\n",
       "      <td>–</td>\n",
       "    </tr>\n",
       "  </tbody>\n",
       "</table>\n",
       "</div>"
      ],
      "text/plain": [
       "  state INCITS opioid_rx_rate_2016 opioid_rx_rate_2015 opioid_rx_rate_2014\n",
       "0    AK  02013                   –                   –                   –\n",
       "1    AK  02016                   –                   –                   –\n",
       "2    AK  02020                66.3                68.2                68.0\n",
       "3    AK  02050                   –                   –                   –\n",
       "4    AK  02060                   –                   –                   –"
      ]
     },
     "execution_count": 10,
     "metadata": {},
     "output_type": "execute_result"
    }
   ],
   "source": [
    "opioid_rx_df.head()"
   ]
  },
  {
   "cell_type": "code",
   "execution_count": 13,
   "metadata": {},
   "outputs": [],
   "source": [
    "#master_df = master_df[master_df.columns].apply(pd.to_numeric)\n",
    "year_cols = ['opioid_rx_rate_2016', 'opioid_rx_rate_2015', 'opioid_rx_rate_2014']\n",
    "opioid_rx_df[year_cols] = opioid_rx_df[year_cols].apply(pd.to_numeric, errors='coerce')"
   ]
  },
  {
   "cell_type": "code",
   "execution_count": 18,
   "metadata": {},
   "outputs": [],
   "source": [
    "state_avg = opioid_rx_df.groupby('state').mean()\n",
    "\n",
    "# df[\"value\"] = df.groupby(\"name\")[\"value\"].transform(lambda x: x.fillna(x.mean()))\n",
    "# https://stackoverflow.com/questions/19966018/pandas-filling-missing-values-by-mean-in-each-group\n",
    "for year in year_cols:\n",
    "    opioid_rx_df[year] = opioid_rx_df.groupby('state')[year].transform(lambda x: x.fillna(x.mean()))"
   ]
  },
  {
   "cell_type": "code",
   "execution_count": 19,
   "metadata": {},
   "outputs": [
    {
     "data": {
      "text/html": [
       "<div>\n",
       "<style scoped>\n",
       "    .dataframe tbody tr th:only-of-type {\n",
       "        vertical-align: middle;\n",
       "    }\n",
       "\n",
       "    .dataframe tbody tr th {\n",
       "        vertical-align: top;\n",
       "    }\n",
       "\n",
       "    .dataframe thead th {\n",
       "        text-align: right;\n",
       "    }\n",
       "</style>\n",
       "<table border=\"1\" class=\"dataframe\">\n",
       "  <thead>\n",
       "    <tr style=\"text-align: right;\">\n",
       "      <th></th>\n",
       "      <th>state</th>\n",
       "      <th>INCITS</th>\n",
       "      <th>opioid_rx_rate_2016</th>\n",
       "      <th>opioid_rx_rate_2015</th>\n",
       "      <th>opioid_rx_rate_2014</th>\n",
       "    </tr>\n",
       "  </thead>\n",
       "  <tbody>\n",
       "    <tr>\n",
       "      <th>0</th>\n",
       "      <td>AK</td>\n",
       "      <td>02013</td>\n",
       "      <td>56.366667</td>\n",
       "      <td>59.425</td>\n",
       "      <td>63.141667</td>\n",
       "    </tr>\n",
       "    <tr>\n",
       "      <th>1</th>\n",
       "      <td>AK</td>\n",
       "      <td>02016</td>\n",
       "      <td>56.366667</td>\n",
       "      <td>59.425</td>\n",
       "      <td>63.141667</td>\n",
       "    </tr>\n",
       "    <tr>\n",
       "      <th>2</th>\n",
       "      <td>AK</td>\n",
       "      <td>02020</td>\n",
       "      <td>66.300000</td>\n",
       "      <td>68.200</td>\n",
       "      <td>68.000000</td>\n",
       "    </tr>\n",
       "    <tr>\n",
       "      <th>3</th>\n",
       "      <td>AK</td>\n",
       "      <td>02050</td>\n",
       "      <td>56.366667</td>\n",
       "      <td>59.425</td>\n",
       "      <td>63.141667</td>\n",
       "    </tr>\n",
       "    <tr>\n",
       "      <th>4</th>\n",
       "      <td>AK</td>\n",
       "      <td>02060</td>\n",
       "      <td>56.366667</td>\n",
       "      <td>59.425</td>\n",
       "      <td>63.141667</td>\n",
       "    </tr>\n",
       "  </tbody>\n",
       "</table>\n",
       "</div>"
      ],
      "text/plain": [
       "  state INCITS  opioid_rx_rate_2016  opioid_rx_rate_2015  opioid_rx_rate_2014\n",
       "0    AK  02013            56.366667               59.425            63.141667\n",
       "1    AK  02016            56.366667               59.425            63.141667\n",
       "2    AK  02020            66.300000               68.200            68.000000\n",
       "3    AK  02050            56.366667               59.425            63.141667\n",
       "4    AK  02060            56.366667               59.425            63.141667"
      ]
     },
     "execution_count": 19,
     "metadata": {},
     "output_type": "execute_result"
    }
   ],
   "source": [
    "opioid_rx_df.head()"
   ]
  },
  {
   "cell_type": "code",
   "execution_count": 20,
   "metadata": {},
   "outputs": [],
   "source": [
    "with open('opioid_rx_df.pkl', 'wb') as picklefile:\n",
    "    pickle.dump(opioid_rx_df, picklefile)"
   ]
  },
  {
   "cell_type": "markdown",
   "metadata": {},
   "source": [
    "## Age of PDMP in 2016\n",
    "\n",
    "Scraped from http://www.pdmpassist.org/content/state-profiles."
   ]
  },
  {
   "cell_type": "code",
   "execution_count": 5,
   "metadata": {},
   "outputs": [],
   "source": [
    "pdmp_url = \"http://www.pdmpassist.org\"\n",
    "state_profiles = \"/content/state-profiles\"\n",
    "\n",
    "response = requests.get(pdmp_url + state_profiles)\n",
    "page = response.text\n",
    "\n",
    "soup = BeautifulSoup(page, \"html5lib\")\n",
    "\n",
    "table = soup.select(\"table[class*=agenda]\")\n",
    "\n",
    "links = soup.select(\"a[href^=/content/]\")\n",
    "\n",
    "profile_links = []\n",
    "\n",
    "for link in links[32:92]:\n",
    "    profile_links.append(link['href'])"
   ]
  },
  {
   "cell_type": "code",
   "execution_count": 6,
   "metadata": {},
   "outputs": [],
   "source": [
    "state_links = [pdmp_url + pl for pl in profile_links]"
   ]
  },
  {
   "cell_type": "code",
   "execution_count": 7,
   "metadata": {},
   "outputs": [
    {
     "data": {
      "text/plain": [
       "'http://www.pdmpassist.org/content/alabama-state-profile'"
      ]
     },
     "execution_count": 7,
     "metadata": {},
     "output_type": "execute_result"
    }
   ],
   "source": [
    "state_links[0]"
   ]
  },
  {
   "cell_type": "code",
   "execution_count": 8,
   "metadata": {},
   "outputs": [],
   "source": [
    "pmp_state_year_dict = {}\n",
    "\n",
    "for state in state_links:\n",
    "    response = requests.get(state)\n",
    "    page = response.text\n",
    "    soup = BeautifulSoup(page, \"html5lib\")\n",
    "    \n",
    "    title = soup.find(\"title\")\n",
    "    state_name = title.text.split(\"State\")[0].strip()\n",
    "    \n",
    "    pmp_operational = soup.select('div[class*=\"field-field-pmp-operational]\"')\n",
    "    year_pmp_operational = str(pmp_operational[0].contents)\n",
    "    year_pmp_operational = year_pmp_operational.split(\"\\n\")\n",
    "    year_pmp_operational = re.sub(r'\\<.*?\\>', \"\", year_pmp_operational[4]).strip()\n",
    "    \n",
    "    pmp_state_year_dict[state_name] = year_pmp_operational\n",
    "    \n",
    "    time.sleep(0.5)"
   ]
  },
  {
   "cell_type": "code",
   "execution_count": 9,
   "metadata": {},
   "outputs": [
    {
     "data": {
      "text/plain": [
       "{'Alabama': '2006',\n",
       " 'Idaho': '1967',\n",
       " 'Missouri': '4-25-2017',\n",
       " 'Pennsylvania': '1973',\n",
       " 'Alaska': '2011',\n",
       " 'Illinois': '1968',\n",
       " 'Montana': '2012',\n",
       " 'Rhode Island': '1979',\n",
       " 'Arizona': '2008',\n",
       " 'Indiana': '1998',\n",
       " 'Nebraska': '2011',\n",
       " 'South Carolina': '2008',\n",
       " 'Arkansas': '2013',\n",
       " 'Iowa': '2009',\n",
       " 'Nevada': '1997',\n",
       " 'South Dakota': '2011',\n",
       " 'California': '1939',\n",
       " 'Kansas': '2011',\n",
       " 'New Hampshire': '2014',\n",
       " 'Tennessee': '2006',\n",
       " 'Colorado': '2007',\n",
       " 'Kentucky': '1999',\n",
       " 'New Jersey': '2011',\n",
       " 'Texas': '1982',\n",
       " 'Connecticut': '2008',\n",
       " 'Louisiana': '2008',\n",
       " 'New Mexico': '2005',\n",
       " 'Utah': '1996',\n",
       " 'Delaware': '2012',\n",
       " 'Maine': '2004',\n",
       " 'New York': '1973',\n",
       " 'Vermont': '2009',\n",
       " 'District of Columbia': '2016',\n",
       " 'Maryland': '2013',\n",
       " 'North Carolina': '2007',\n",
       " 'Virginia': '2003',\n",
       " 'Florida': '2011',\n",
       " 'Massachusetts': '1994',\n",
       " 'North Dakota': '2007',\n",
       " 'Washington': '2011',\n",
       " 'Georgia': '2013',\n",
       " 'Michigan': '1989',\n",
       " 'Ohio': '2006',\n",
       " 'West Virginia': '1995',\n",
       " 'Guam Territory Profile                     | The PDMP Training and Technical Assistance Center': '2013',\n",
       " 'Minnesota': '2010',\n",
       " 'Oklahoma': '1991',\n",
       " 'Wisconsin': '2013',\n",
       " 'Hawaii': '1943',\n",
       " 'Mississippi': '2005',\n",
       " 'Oregon': '2011',\n",
       " 'Wyoming': '2004'}"
      ]
     },
     "execution_count": 9,
     "metadata": {},
     "output_type": "execute_result"
    }
   ],
   "source": [
    "pmp_state_year_dict"
   ]
  },
  {
   "cell_type": "code",
   "execution_count": 10,
   "metadata": {},
   "outputs": [],
   "source": [
    "# This list is small enough that I'm going to manually remove Guam and also correct the year for Missouri.\n",
    "pmp_state_year_dict.pop('Guam Territory Profile                     | The PDMP Training and Technical Assistance Center')\n",
    "pmp_state_year_dict['Missouri'] = '2017'"
   ]
  },
  {
   "cell_type": "code",
   "execution_count": 11,
   "metadata": {},
   "outputs": [],
   "source": [
    "for key, value in pmp_state_year_dict.items():\n",
    "    temp = int(pmp_state_year_dict[key])\n",
    "    pmp_state_year_dict[key] = temp"
   ]
  },
  {
   "cell_type": "code",
   "execution_count": 12,
   "metadata": {},
   "outputs": [],
   "source": [
    "#DataFrame.from_dict(data, orient='columns', dtype=None)\n",
    "#pmp_state_year_df = pd.DataFrame(np.asarray(pmp_state_year_dict), columns=['state', 'year'])\n",
    "x = pd.Series(pmp_state_year_dict)"
   ]
  },
  {
   "cell_type": "code",
   "execution_count": 13,
   "metadata": {},
   "outputs": [],
   "source": [
    "pmp_state_year_df = pd.DataFrame(x, columns=['year'])\n",
    "pmp_state_year_df.reset_index(inplace=True)"
   ]
  },
  {
   "cell_type": "code",
   "execution_count": 14,
   "metadata": {},
   "outputs": [
    {
     "data": {
      "text/html": [
       "<div>\n",
       "<style scoped>\n",
       "    .dataframe tbody tr th:only-of-type {\n",
       "        vertical-align: middle;\n",
       "    }\n",
       "\n",
       "    .dataframe tbody tr th {\n",
       "        vertical-align: top;\n",
       "    }\n",
       "\n",
       "    .dataframe thead th {\n",
       "        text-align: right;\n",
       "    }\n",
       "</style>\n",
       "<table border=\"1\" class=\"dataframe\">\n",
       "  <thead>\n",
       "    <tr style=\"text-align: right;\">\n",
       "      <th></th>\n",
       "      <th>index</th>\n",
       "      <th>year</th>\n",
       "    </tr>\n",
       "  </thead>\n",
       "  <tbody>\n",
       "    <tr>\n",
       "      <th>0</th>\n",
       "      <td>Alabama</td>\n",
       "      <td>2006</td>\n",
       "    </tr>\n",
       "    <tr>\n",
       "      <th>1</th>\n",
       "      <td>Idaho</td>\n",
       "      <td>1967</td>\n",
       "    </tr>\n",
       "    <tr>\n",
       "      <th>2</th>\n",
       "      <td>Missouri</td>\n",
       "      <td>2017</td>\n",
       "    </tr>\n",
       "    <tr>\n",
       "      <th>3</th>\n",
       "      <td>Pennsylvania</td>\n",
       "      <td>1973</td>\n",
       "    </tr>\n",
       "    <tr>\n",
       "      <th>4</th>\n",
       "      <td>Alaska</td>\n",
       "      <td>2011</td>\n",
       "    </tr>\n",
       "  </tbody>\n",
       "</table>\n",
       "</div>"
      ],
      "text/plain": [
       "          index  year\n",
       "0       Alabama  2006\n",
       "1         Idaho  1967\n",
       "2      Missouri  2017\n",
       "3  Pennsylvania  1973\n",
       "4        Alaska  2011"
      ]
     },
     "execution_count": 14,
     "metadata": {},
     "output_type": "execute_result"
    }
   ],
   "source": [
    "pmp_state_year_df.head()"
   ]
  },
  {
   "cell_type": "code",
   "execution_count": 15,
   "metadata": {},
   "outputs": [],
   "source": [
    "pmp_state_year_df['pmp_age_in_2016'] = 2016 - pmp_state_year_df.year"
   ]
  },
  {
   "cell_type": "code",
   "execution_count": 16,
   "metadata": {},
   "outputs": [],
   "source": [
    "pmp_state_year_df['pmp_age_in_2016'] = pmp_state_year_df['pmp_age_in_2016'].clip_lower(0)"
   ]
  },
  {
   "cell_type": "code",
   "execution_count": 17,
   "metadata": {},
   "outputs": [],
   "source": [
    "with open('pmp_age.pkl', 'wb') as picklefile:\n",
    "    pickle.dump(pmp_state_year_df, picklefile)"
   ]
  },
  {
   "cell_type": "markdown",
   "metadata": {},
   "source": [
    "## Geographic divisions (per bureau)\n",
    "\n",
    "Geographic divisions from this [csv](https://github.com/cphalpert/census-regions/blob/master/us%20census%20bureau%20regions%20and%20divisions.csv). These variables need to be dummified."
   ]
  },
  {
   "cell_type": "code",
   "execution_count": 20,
   "metadata": {},
   "outputs": [],
   "source": [
    "us_regions = pd.read_csv(\"https://raw.githubusercontent.com/cphalpert/census-regions/master/us%20census%20bureau%20regions%20and%20divisions.csv\")"
   ]
  },
  {
   "cell_type": "code",
   "execution_count": 22,
   "metadata": {},
   "outputs": [
    {
     "data": {
      "text/html": [
       "<div>\n",
       "<style scoped>\n",
       "    .dataframe tbody tr th:only-of-type {\n",
       "        vertical-align: middle;\n",
       "    }\n",
       "\n",
       "    .dataframe tbody tr th {\n",
       "        vertical-align: top;\n",
       "    }\n",
       "\n",
       "    .dataframe thead th {\n",
       "        text-align: right;\n",
       "    }\n",
       "</style>\n",
       "<table border=\"1\" class=\"dataframe\">\n",
       "  <thead>\n",
       "    <tr style=\"text-align: right;\">\n",
       "      <th></th>\n",
       "      <th>State</th>\n",
       "      <th>State Code</th>\n",
       "      <th>Region</th>\n",
       "      <th>Division</th>\n",
       "    </tr>\n",
       "  </thead>\n",
       "  <tbody>\n",
       "    <tr>\n",
       "      <th>0</th>\n",
       "      <td>Alaska</td>\n",
       "      <td>AK</td>\n",
       "      <td>West</td>\n",
       "      <td>Pacific</td>\n",
       "    </tr>\n",
       "    <tr>\n",
       "      <th>1</th>\n",
       "      <td>Alabama</td>\n",
       "      <td>AL</td>\n",
       "      <td>South</td>\n",
       "      <td>East South Central</td>\n",
       "    </tr>\n",
       "    <tr>\n",
       "      <th>2</th>\n",
       "      <td>Arkansas</td>\n",
       "      <td>AR</td>\n",
       "      <td>South</td>\n",
       "      <td>West South Central</td>\n",
       "    </tr>\n",
       "    <tr>\n",
       "      <th>3</th>\n",
       "      <td>Arizona</td>\n",
       "      <td>AZ</td>\n",
       "      <td>West</td>\n",
       "      <td>Mountain</td>\n",
       "    </tr>\n",
       "    <tr>\n",
       "      <th>4</th>\n",
       "      <td>California</td>\n",
       "      <td>CA</td>\n",
       "      <td>West</td>\n",
       "      <td>Pacific</td>\n",
       "    </tr>\n",
       "  </tbody>\n",
       "</table>\n",
       "</div>"
      ],
      "text/plain": [
       "        State State Code Region            Division\n",
       "0      Alaska         AK   West             Pacific\n",
       "1     Alabama         AL  South  East South Central\n",
       "2    Arkansas         AR  South  West South Central\n",
       "3     Arizona         AZ   West            Mountain\n",
       "4  California         CA   West             Pacific"
      ]
     },
     "execution_count": 22,
     "metadata": {},
     "output_type": "execute_result"
    }
   ],
   "source": [
    "us_regions.head()"
   ]
  },
  {
   "cell_type": "code",
   "execution_count": 42,
   "metadata": {},
   "outputs": [],
   "source": [
    "us_regions_dummies = pd.concat([us_regions['State Code'], pd.get_dummies(us_regions['Division'], prefix = 'Division')], axis=1)"
   ]
  },
  {
   "cell_type": "code",
   "execution_count": 43,
   "metadata": {},
   "outputs": [
    {
     "data": {
      "text/html": [
       "<div>\n",
       "<style scoped>\n",
       "    .dataframe tbody tr th:only-of-type {\n",
       "        vertical-align: middle;\n",
       "    }\n",
       "\n",
       "    .dataframe tbody tr th {\n",
       "        vertical-align: top;\n",
       "    }\n",
       "\n",
       "    .dataframe thead th {\n",
       "        text-align: right;\n",
       "    }\n",
       "</style>\n",
       "<table border=\"1\" class=\"dataframe\">\n",
       "  <thead>\n",
       "    <tr style=\"text-align: right;\">\n",
       "      <th></th>\n",
       "      <th>State Code</th>\n",
       "      <th>Division_East North Central</th>\n",
       "      <th>Division_East South Central</th>\n",
       "      <th>Division_Middle Atlantic</th>\n",
       "      <th>Division_Mountain</th>\n",
       "      <th>Division_New England</th>\n",
       "      <th>Division_Pacific</th>\n",
       "      <th>Division_South Atlantic</th>\n",
       "      <th>Division_West North Central</th>\n",
       "      <th>Division_West South Central</th>\n",
       "    </tr>\n",
       "  </thead>\n",
       "  <tbody>\n",
       "    <tr>\n",
       "      <th>0</th>\n",
       "      <td>AK</td>\n",
       "      <td>0</td>\n",
       "      <td>0</td>\n",
       "      <td>0</td>\n",
       "      <td>0</td>\n",
       "      <td>0</td>\n",
       "      <td>1</td>\n",
       "      <td>0</td>\n",
       "      <td>0</td>\n",
       "      <td>0</td>\n",
       "    </tr>\n",
       "    <tr>\n",
       "      <th>1</th>\n",
       "      <td>AL</td>\n",
       "      <td>0</td>\n",
       "      <td>1</td>\n",
       "      <td>0</td>\n",
       "      <td>0</td>\n",
       "      <td>0</td>\n",
       "      <td>0</td>\n",
       "      <td>0</td>\n",
       "      <td>0</td>\n",
       "      <td>0</td>\n",
       "    </tr>\n",
       "    <tr>\n",
       "      <th>2</th>\n",
       "      <td>AR</td>\n",
       "      <td>0</td>\n",
       "      <td>0</td>\n",
       "      <td>0</td>\n",
       "      <td>0</td>\n",
       "      <td>0</td>\n",
       "      <td>0</td>\n",
       "      <td>0</td>\n",
       "      <td>0</td>\n",
       "      <td>1</td>\n",
       "    </tr>\n",
       "    <tr>\n",
       "      <th>3</th>\n",
       "      <td>AZ</td>\n",
       "      <td>0</td>\n",
       "      <td>0</td>\n",
       "      <td>0</td>\n",
       "      <td>1</td>\n",
       "      <td>0</td>\n",
       "      <td>0</td>\n",
       "      <td>0</td>\n",
       "      <td>0</td>\n",
       "      <td>0</td>\n",
       "    </tr>\n",
       "    <tr>\n",
       "      <th>4</th>\n",
       "      <td>CA</td>\n",
       "      <td>0</td>\n",
       "      <td>0</td>\n",
       "      <td>0</td>\n",
       "      <td>0</td>\n",
       "      <td>0</td>\n",
       "      <td>1</td>\n",
       "      <td>0</td>\n",
       "      <td>0</td>\n",
       "      <td>0</td>\n",
       "    </tr>\n",
       "  </tbody>\n",
       "</table>\n",
       "</div>"
      ],
      "text/plain": [
       "  State Code  Division_East North Central  Division_East South Central  \\\n",
       "0         AK                            0                            0   \n",
       "1         AL                            0                            1   \n",
       "2         AR                            0                            0   \n",
       "3         AZ                            0                            0   \n",
       "4         CA                            0                            0   \n",
       "\n",
       "   Division_Middle Atlantic  Division_Mountain  Division_New England  \\\n",
       "0                         0                  0                     0   \n",
       "1                         0                  0                     0   \n",
       "2                         0                  0                     0   \n",
       "3                         0                  1                     0   \n",
       "4                         0                  0                     0   \n",
       "\n",
       "   Division_Pacific  Division_South Atlantic  Division_West North Central  \\\n",
       "0                 1                        0                            0   \n",
       "1                 0                        0                            0   \n",
       "2                 0                        0                            0   \n",
       "3                 0                        0                            0   \n",
       "4                 1                        0                            0   \n",
       "\n",
       "   Division_West South Central  \n",
       "0                            0  \n",
       "1                            0  \n",
       "2                            1  \n",
       "3                            0  \n",
       "4                            0  "
      ]
     },
     "execution_count": 43,
     "metadata": {},
     "output_type": "execute_result"
    }
   ],
   "source": [
    "us_regions_dummies.head()"
   ]
  },
  {
   "cell_type": "code",
   "execution_count": 44,
   "metadata": {},
   "outputs": [],
   "source": [
    "with open('us_regions_dummies.pkl', 'wb') as picklefile:\n",
    "    pickle.dump(us_regions_dummies, picklefile)"
   ]
  },
  {
   "cell_type": "code",
   "execution_count": null,
   "metadata": {},
   "outputs": [],
   "source": []
  }
 ],
 "metadata": {
  "kernelspec": {
   "display_name": "Python 3",
   "language": "python",
   "name": "python3"
  },
  "language_info": {
   "codemirror_mode": {
    "name": "ipython",
    "version": 3
   },
   "file_extension": ".py",
   "mimetype": "text/x-python",
   "name": "python",
   "nbconvert_exporter": "python",
   "pygments_lexer": "ipython3",
   "version": "3.6.5"
  }
 },
 "nbformat": 4,
 "nbformat_minor": 2
}
