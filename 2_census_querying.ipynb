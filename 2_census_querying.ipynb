{
 "cells": [
  {
   "cell_type": "markdown",
   "metadata": {},
   "source": [
    "## Census API to query data\n",
    "\n",
    "US Census allows developers to use their API to query different datasets. I am interested in querying the 2016 ACS dataset for 5 parameters (percent unemployment comes from the Bureau of Labor Statistics):\n",
    "\n",
    "### Economic:\n",
    "* Poverty\n",
    "* Percent unemployment\n",
    "* Median household income\n",
    "\n",
    "### Demographic:\n",
    "* Median age\n",
    "* Percentage minority\n",
    "* Education - percentage high school grad or higher"
   ]
  },
  {
   "cell_type": "code",
   "execution_count": 1,
   "metadata": {},
   "outputs": [],
   "source": [
    "import requests\n",
    "import pandas as pd\n",
    "import matplotlib.pyplot as plt\n",
    "import numpy as np\n",
    "import re\n",
    "import pickle\n",
    "import time"
   ]
  },
  {
   "cell_type": "code",
   "execution_count": 2,
   "metadata": {},
   "outputs": [],
   "source": [
    "# get census API key from file\n",
    "with open(\"API_ignore.txt\", 'r') as f:\n",
    "    t = f.read()\n",
    "    \n",
    "MY_API = t.split()[1].strip()"
   ]
  },
  {
   "cell_type": "code",
   "execution_count": 3,
   "metadata": {},
   "outputs": [],
   "source": [
    "# load county_df so that you can iterate over INCITS\n",
    "with open(\"statedf_countydf_states.pkl\", \"rb\") as picklefile:\n",
    "    [state_df, county_df, states] = pickle.load(picklefile)"
   ]
  },
  {
   "cell_type": "code",
   "execution_count": 4,
   "metadata": {},
   "outputs": [],
   "source": [
    "census_query = \"https://api.census.gov/data/2016/acs/acs5/profile?get=NAME,{}&for=county:{}&in=state:{}&key={}\"\n",
    "\n",
    "stats_request_dict = {\"median_age\": \"DP05_0017E\", \n",
    "                      \"percent_white\": \"DP05_0032PE\", \n",
    "                      \"hs_percent\": \"DP02_0066PE\",\n",
    "                      \"median_hh_income\": \"DP03_0062E\",\n",
    "                      \"percent_unemployed\": \"DP03_0005PE\",\n",
    "                      \"percent_poverty\" : \"DP03_0119PE\",\n",
    "                     }"
   ]
  },
  {
   "cell_type": "code",
   "execution_count": 5,
   "metadata": {},
   "outputs": [],
   "source": [
    "census_columns = ['INCITS']\n",
    "census_columns.extend(list(stats_request_dict.keys()))\n",
    "census_df = pd.DataFrame(columns=census_columns)"
   ]
  },
  {
   "cell_type": "code",
   "execution_count": 6,
   "metadata": {},
   "outputs": [],
   "source": [
    "#mini_county_df = county_df.iloc[0:3]\n",
    "\n",
    "def get_census_df(county_df):\n",
    "    stats_request_dict = {\"median_age\": \"DP05_0017E\", \n",
    "                      \"percent_white\": \"DP05_0032PE\", \n",
    "                      \"hs_percent\": \"DP02_0066PE\",\n",
    "                      \"median_hh_income\": \"DP03_0062E\",\n",
    "                      \"percent_unemployed\": \"DP03_0005PE\",\n",
    "                      \"percent_poverty\" : \"DP03_0119PE\",\n",
    "                     }\n",
    "    \n",
    "    census_columns = ['INCITS']\n",
    "    census_columns.extend(list(stats_request_dict.keys()))\n",
    "    census_df = pd.DataFrame(columns=census_columns)\n",
    "    \n",
    "    census_query = \"https://api.census.gov/data/2016/acs/acs5/profile?get=NAME,{}&for=county:{}&in=state:{}&key={}\"\n",
    "    \n",
    "    for row in county_df.itertuples():\n",
    "        row_dict = {'INCITS': row.INCITS}\n",
    "        for stat_name, req in stats_request_dict.items():\n",
    "            #print(census_query.format(req, row.county_code, row.state_code, MY_API))\n",
    "            try:\n",
    "                response = requests.get(census_query.format(req, row.county_code, row.state_code, MY_API))\n",
    "                response.raise_for_status()\n",
    "                val = response.json()\n",
    "                row_dict[stat_name] = val[1][1]\n",
    "            except:\n",
    "                print(\"There was an error making this query.\")\n",
    "        census_df = census_df.append(row_dict, ignore_index=True)\n",
    "    \n",
    "    return census_df"
   ]
  },
  {
   "cell_type": "code",
   "execution_count": 75,
   "metadata": {},
   "outputs": [],
   "source": [
    "#x = get_census_df(mini_county_df)"
   ]
  },
  {
   "cell_type": "code",
   "execution_count": 76,
   "metadata": {},
   "outputs": [
    {
     "data": {
      "text/html": [
       "<div>\n",
       "<style scoped>\n",
       "    .dataframe tbody tr th:only-of-type {\n",
       "        vertical-align: middle;\n",
       "    }\n",
       "\n",
       "    .dataframe tbody tr th {\n",
       "        vertical-align: top;\n",
       "    }\n",
       "\n",
       "    .dataframe thead th {\n",
       "        text-align: right;\n",
       "    }\n",
       "</style>\n",
       "<table border=\"1\" class=\"dataframe\">\n",
       "  <thead>\n",
       "    <tr style=\"text-align: right;\">\n",
       "      <th></th>\n",
       "      <th>INCITS</th>\n",
       "      <th>median_age</th>\n",
       "      <th>percent_white</th>\n",
       "      <th>hs_percent</th>\n",
       "      <th>median_hh_income</th>\n",
       "      <th>percent_unemployed</th>\n",
       "      <th>percent_poverty</th>\n",
       "    </tr>\n",
       "  </thead>\n",
       "  <tbody>\n",
       "    <tr>\n",
       "      <th>0</th>\n",
       "      <td>01001</td>\n",
       "      <td>37.8</td>\n",
       "      <td>76.9</td>\n",
       "      <td>87.6</td>\n",
       "      <td>53099</td>\n",
       "      <td>3.4</td>\n",
       "      <td>9.4</td>\n",
       "    </tr>\n",
       "    <tr>\n",
       "      <th>1</th>\n",
       "      <td>01003</td>\n",
       "      <td>42.3</td>\n",
       "      <td>86.4</td>\n",
       "      <td>90.0</td>\n",
       "      <td>51365</td>\n",
       "      <td>3.7</td>\n",
       "      <td>9.3</td>\n",
       "    </tr>\n",
       "    <tr>\n",
       "      <th>2</th>\n",
       "      <td>01005</td>\n",
       "      <td>38.7</td>\n",
       "      <td>46.7</td>\n",
       "      <td>73.8</td>\n",
       "      <td>33956</td>\n",
       "      <td>6.2</td>\n",
       "      <td>20.0</td>\n",
       "    </tr>\n",
       "  </tbody>\n",
       "</table>\n",
       "</div>"
      ],
      "text/plain": [
       "  INCITS median_age percent_white hs_percent median_hh_income  \\\n",
       "0  01001       37.8          76.9       87.6            53099   \n",
       "1  01003       42.3          86.4       90.0            51365   \n",
       "2  01005       38.7          46.7       73.8            33956   \n",
       "\n",
       "  percent_unemployed percent_poverty  \n",
       "0                3.4             9.4  \n",
       "1                3.7             9.3  \n",
       "2                6.2            20.0  "
      ]
     },
     "execution_count": 76,
     "metadata": {},
     "output_type": "execute_result"
    }
   ],
   "source": [
    "#x"
   ]
  },
  {
   "cell_type": "code",
   "execution_count": 7,
   "metadata": {},
   "outputs": [],
   "source": [
    "list_county_dfs = []\n",
    "\n",
    "num = county_df.shape[0]\n",
    "chunk_size = 160\n",
    "cycles = county_df.shape[0]//chunk_size\n",
    "for i in range(0, cycles+1):\n",
    "    if i == cycles:\n",
    "        #print(str(i*chunk_size) + '\\t' + ':')\n",
    "        list_county_dfs.append(county_df.iloc[(i*chunk_size):])\n",
    "    else:\n",
    "        #print(str(i*chunk_size) + '\\t' + str((i+1)*chunk_size))\n",
    "        list_county_dfs.append(county_df.iloc[i*chunk_size:(i+1)*chunk_size])"
   ]
  },
  {
   "cell_type": "code",
   "execution_count": 8,
   "metadata": {},
   "outputs": [],
   "source": [
    "# create a list of dataframes.\n",
    "census_dfs = []"
   ]
  },
  {
   "cell_type": "code",
   "execution_count": 9,
   "metadata": {},
   "outputs": [
    {
     "data": {
      "text/plain": [
       "19"
      ]
     },
     "execution_count": 9,
     "metadata": {},
     "output_type": "execute_result"
    }
   ],
   "source": [
    "cycles"
   ]
  },
  {
   "cell_type": "code",
   "execution_count": 77,
   "metadata": {},
   "outputs": [
    {
     "name": "stdout",
     "output_type": "stream",
     "text": [
      "07/13/2018 14:54:04\n",
      "CPU times: user 25.7 s, sys: 1.74 s, total: 27.5 s\n",
      "Wall time: 6min 12s\n"
     ]
    }
   ],
   "source": [
    "%%time\n",
    "x = get_census_df(list_county_dfs[5])\n",
    "print(time.strftime(\"%m/%d/%Y %H:%M:%S\"))\n",
    "\n",
    "# 07/12/2018 19:36:50 for chunk 0; 9 minutes and 57 seconds\n",
    "# 07/12/2018 20:14:06 for chunk 1; 9min 53s\n",
    "# 07/12/2018 20:31:35 for chunk 2; 12min 51s\n",
    "# 07/12/2018 20:43:52 for chunk 3; 9min 39s\n",
    "# 07/12/2018 21:08:55 for chunk 4; 10min 29s\n",
    "\n",
    "# 07/13/2018 08:24:38 for chunk 6; 6min 4s\n",
    "# 07/13/2018 08:34:04 for chunk 7; 5min 59s\n",
    "# 07/13/2018 08:46:25 for chunk 8; 6min 1s\n",
    "# 07/13/2018 09:33:52 for chunk 9; 6min 4s\n",
    "# 07/13/2018 09:41:10 for chunk 10; 6min 2s\n",
    "# 07/13/2018 09:55:42 for chunk 11; 6min 3s\n",
    "# 07/13/2018 10:05:18 for chunk 12; 6min 17s\n",
    "# 07/13/2018 10:57:08 for chunk 13; 6min 14s\n",
    "#There was an error making this query.\n",
    "#07/13/2018 11:37:01\n",
    "# 07/13/2018 12:48:08 for chunk 14; 6min 5s\n",
    "# 07/13/2018 13:10:41 for chunk 15; 7min\n",
    "# 07/13/2018 13:25:38 for chunk 16; 6min 7s\n",
    "# 07/13/2018 13:32:24 for chunk 17; 6min 23s\n",
    "# 07/13/2018 13:54:08 for chunk 18; 6min\n",
    "# 07/13/2018 14:14:47 for chunk 19; 4min 44s\n",
    "\n",
    "# we are now up to 19."
   ]
  },
  {
   "cell_type": "code",
   "execution_count": 78,
   "metadata": {},
   "outputs": [],
   "source": [
    "with open('cdf5.pkl', 'wb') as picklefile:\n",
    "    pickle.dump(x, picklefile)"
   ]
  },
  {
   "cell_type": "markdown",
   "metadata": {},
   "source": [
    "https://api.census.gov/data/2016/acs/acs1/profile/variables.html\n",
    "\n",
    "https://api.census.gov/data/2016/acs/acs1/profile.html\n",
    "\n",
    "https://www26.state.nj.us/doh-shad/sharedstatic/StandardizedMortalityRatio.pdf"
   ]
  },
  {
   "cell_type": "code",
   "execution_count": 52,
   "metadata": {},
   "outputs": [],
   "source": [
    "with open('c.pkl', 'rb') as picklefile:\n",
    "    c = pickle.load(picklefile)"
   ]
  },
  {
   "cell_type": "code",
   "execution_count": 43,
   "metadata": {},
   "outputs": [],
   "source": [
    "list_of_dfs = []\n",
    "\n",
    "for i in range(6, 20):\n",
    "    filename = 'cdf{}.pkl'\n",
    "    with open(filename.format(i), 'rb') as picklefile:\n",
    "        df = pickle.load(picklefile)\n",
    "        list_of_dfs.append(df)"
   ]
  },
  {
   "cell_type": "code",
   "execution_count": 45,
   "metadata": {},
   "outputs": [],
   "source": [
    "c_6_19 = pd.concat(list_of_dfs)"
   ]
  },
  {
   "cell_type": "code",
   "execution_count": 46,
   "metadata": {},
   "outputs": [
    {
     "data": {
      "text/html": [
       "<div>\n",
       "<style scoped>\n",
       "    .dataframe tbody tr th:only-of-type {\n",
       "        vertical-align: middle;\n",
       "    }\n",
       "\n",
       "    .dataframe tbody tr th {\n",
       "        vertical-align: top;\n",
       "    }\n",
       "\n",
       "    .dataframe thead th {\n",
       "        text-align: right;\n",
       "    }\n",
       "</style>\n",
       "<table border=\"1\" class=\"dataframe\">\n",
       "  <thead>\n",
       "    <tr style=\"text-align: right;\">\n",
       "      <th></th>\n",
       "      <th>INCITS</th>\n",
       "      <th>median_age</th>\n",
       "      <th>percent_white</th>\n",
       "      <th>hs_percent</th>\n",
       "      <th>median_hh_income</th>\n",
       "      <th>percent_unemployed</th>\n",
       "      <th>percent_poverty</th>\n",
       "    </tr>\n",
       "  </thead>\n",
       "  <tbody>\n",
       "    <tr>\n",
       "      <th>0</th>\n",
       "      <td>20145</td>\n",
       "      <td>43.7</td>\n",
       "      <td>90.4</td>\n",
       "      <td>89.3</td>\n",
       "      <td>46227</td>\n",
       "      <td>0.6</td>\n",
       "      <td>4.0</td>\n",
       "    </tr>\n",
       "    <tr>\n",
       "      <th>1</th>\n",
       "      <td>20147</td>\n",
       "      <td>44.9</td>\n",
       "      <td>96.5</td>\n",
       "      <td>93.6</td>\n",
       "      <td>45940</td>\n",
       "      <td>2.0</td>\n",
       "      <td>7.2</td>\n",
       "    </tr>\n",
       "    <tr>\n",
       "      <th>2</th>\n",
       "      <td>20149</td>\n",
       "      <td>34.8</td>\n",
       "      <td>94.0</td>\n",
       "      <td>95.4</td>\n",
       "      <td>62500</td>\n",
       "      <td>2.9</td>\n",
       "      <td>6.2</td>\n",
       "    </tr>\n",
       "    <tr>\n",
       "      <th>3</th>\n",
       "      <td>20151</td>\n",
       "      <td>38.8</td>\n",
       "      <td>94.7</td>\n",
       "      <td>90.6</td>\n",
       "      <td>48995</td>\n",
       "      <td>3.2</td>\n",
       "      <td>9.7</td>\n",
       "    </tr>\n",
       "    <tr>\n",
       "      <th>4</th>\n",
       "      <td>20153</td>\n",
       "      <td>50.3</td>\n",
       "      <td>96.4</td>\n",
       "      <td>93.7</td>\n",
       "      <td>49327</td>\n",
       "      <td>1.4</td>\n",
       "      <td>5.4</td>\n",
       "    </tr>\n",
       "  </tbody>\n",
       "</table>\n",
       "</div>"
      ],
      "text/plain": [
       "  INCITS median_age percent_white hs_percent median_hh_income  \\\n",
       "0  20145       43.7          90.4       89.3            46227   \n",
       "1  20147       44.9          96.5       93.6            45940   \n",
       "2  20149       34.8          94.0       95.4            62500   \n",
       "3  20151       38.8          94.7       90.6            48995   \n",
       "4  20153       50.3          96.4       93.7            49327   \n",
       "\n",
       "  percent_unemployed percent_poverty  \n",
       "0                0.6             4.0  \n",
       "1                2.0             7.2  \n",
       "2                2.9             6.2  \n",
       "3                3.2             9.7  \n",
       "4                1.4             5.4  "
      ]
     },
     "execution_count": 46,
     "metadata": {},
     "output_type": "execute_result"
    }
   ],
   "source": [
    "c_6_19.head()"
   ]
  },
  {
   "cell_type": "code",
   "execution_count": 47,
   "metadata": {},
   "outputs": [
    {
     "data": {
      "text/plain": [
       "(2182, 7)"
      ]
     },
     "execution_count": 47,
     "metadata": {},
     "output_type": "execute_result"
    }
   ],
   "source": [
    "c_6_19.shape"
   ]
  },
  {
   "cell_type": "code",
   "execution_count": 50,
   "metadata": {},
   "outputs": [],
   "source": [
    "with open('c_6_19.pkl', 'wb') as picklefile:\n",
    "    pickle.dump(c_6_19, picklefile)"
   ]
  },
  {
   "cell_type": "code",
   "execution_count": 53,
   "metadata": {},
   "outputs": [
    {
     "data": {
      "text/plain": [
       "(800, 7)"
      ]
     },
     "execution_count": 53,
     "metadata": {},
     "output_type": "execute_result"
    }
   ],
   "source": [
    "c.shape"
   ]
  },
  {
   "cell_type": "code",
   "execution_count": 55,
   "metadata": {},
   "outputs": [],
   "source": [
    "census_master_df = pd.concat([c, c_6_19])"
   ]
  },
  {
   "cell_type": "code",
   "execution_count": 56,
   "metadata": {},
   "outputs": [
    {
     "data": {
      "text/html": [
       "<div>\n",
       "<style scoped>\n",
       "    .dataframe tbody tr th:only-of-type {\n",
       "        vertical-align: middle;\n",
       "    }\n",
       "\n",
       "    .dataframe tbody tr th {\n",
       "        vertical-align: top;\n",
       "    }\n",
       "\n",
       "    .dataframe thead th {\n",
       "        text-align: right;\n",
       "    }\n",
       "</style>\n",
       "<table border=\"1\" class=\"dataframe\">\n",
       "  <thead>\n",
       "    <tr style=\"text-align: right;\">\n",
       "      <th></th>\n",
       "      <th>INCITS</th>\n",
       "      <th>median_age</th>\n",
       "      <th>percent_white</th>\n",
       "      <th>hs_percent</th>\n",
       "      <th>median_hh_income</th>\n",
       "      <th>percent_unemployed</th>\n",
       "      <th>percent_poverty</th>\n",
       "    </tr>\n",
       "  </thead>\n",
       "  <tbody>\n",
       "    <tr>\n",
       "      <th>0</th>\n",
       "      <td>01001</td>\n",
       "      <td>37.8</td>\n",
       "      <td>76.9</td>\n",
       "      <td>87.6</td>\n",
       "      <td>53099</td>\n",
       "      <td>3.4</td>\n",
       "      <td>9.4</td>\n",
       "    </tr>\n",
       "    <tr>\n",
       "      <th>1</th>\n",
       "      <td>01003</td>\n",
       "      <td>42.3</td>\n",
       "      <td>86.4</td>\n",
       "      <td>90.0</td>\n",
       "      <td>51365</td>\n",
       "      <td>3.7</td>\n",
       "      <td>9.3</td>\n",
       "    </tr>\n",
       "    <tr>\n",
       "      <th>2</th>\n",
       "      <td>01005</td>\n",
       "      <td>38.7</td>\n",
       "      <td>46.7</td>\n",
       "      <td>73.8</td>\n",
       "      <td>33956</td>\n",
       "      <td>6.2</td>\n",
       "      <td>20.0</td>\n",
       "    </tr>\n",
       "    <tr>\n",
       "      <th>3</th>\n",
       "      <td>01007</td>\n",
       "      <td>40.2</td>\n",
       "      <td>77.0</td>\n",
       "      <td>80.7</td>\n",
       "      <td>39776</td>\n",
       "      <td>3.5</td>\n",
       "      <td>11.7</td>\n",
       "    </tr>\n",
       "    <tr>\n",
       "      <th>4</th>\n",
       "      <td>01009</td>\n",
       "      <td>40.8</td>\n",
       "      <td>95.4</td>\n",
       "      <td>80.0</td>\n",
       "      <td>46212</td>\n",
       "      <td>3.0</td>\n",
       "      <td>12.2</td>\n",
       "    </tr>\n",
       "  </tbody>\n",
       "</table>\n",
       "</div>"
      ],
      "text/plain": [
       "  INCITS median_age percent_white hs_percent median_hh_income  \\\n",
       "0  01001       37.8          76.9       87.6            53099   \n",
       "1  01003       42.3          86.4       90.0            51365   \n",
       "2  01005       38.7          46.7       73.8            33956   \n",
       "3  01007       40.2          77.0       80.7            39776   \n",
       "4  01009       40.8          95.4       80.0            46212   \n",
       "\n",
       "  percent_unemployed percent_poverty  \n",
       "0                3.4             9.4  \n",
       "1                3.7             9.3  \n",
       "2                6.2            20.0  \n",
       "3                3.5            11.7  \n",
       "4                3.0            12.2  "
      ]
     },
     "execution_count": 56,
     "metadata": {},
     "output_type": "execute_result"
    }
   ],
   "source": [
    "census_master_df.head()"
   ]
  },
  {
   "cell_type": "code",
   "execution_count": 57,
   "metadata": {},
   "outputs": [
    {
     "data": {
      "text/plain": [
       "(3142, 4)"
      ]
     },
     "execution_count": 57,
     "metadata": {},
     "output_type": "execute_result"
    }
   ],
   "source": [
    "county_df.shape"
   ]
  },
  {
   "cell_type": "code",
   "execution_count": 71,
   "metadata": {},
   "outputs": [],
   "source": [
    "missing_incits = list(set(county_df.INCITS).difference(set(census_master_df.INCITS)))"
   ]
  },
  {
   "cell_type": "code",
   "execution_count": null,
   "metadata": {},
   "outputs": [],
   "source": [
    "sorted(missing_incits)"
   ]
  },
  {
   "cell_type": "code",
   "execution_count": 76,
   "metadata": {},
   "outputs": [
    {
     "data": {
      "text/html": [
       "<div>\n",
       "<style scoped>\n",
       "    .dataframe tbody tr th:only-of-type {\n",
       "        vertical-align: middle;\n",
       "    }\n",
       "\n",
       "    .dataframe tbody tr th {\n",
       "        vertical-align: top;\n",
       "    }\n",
       "\n",
       "    .dataframe thead th {\n",
       "        text-align: right;\n",
       "    }\n",
       "</style>\n",
       "<table border=\"1\" class=\"dataframe\">\n",
       "  <thead>\n",
       "    <tr style=\"text-align: right;\">\n",
       "      <th></th>\n",
       "      <th>state_code</th>\n",
       "      <th>county_code</th>\n",
       "      <th>name</th>\n",
       "      <th>INCITS</th>\n",
       "    </tr>\n",
       "  </thead>\n",
       "  <tbody>\n",
       "    <tr>\n",
       "      <th>800</th>\n",
       "      <td>19</td>\n",
       "      <td>023</td>\n",
       "      <td>Butler County</td>\n",
       "      <td>19023</td>\n",
       "    </tr>\n",
       "    <tr>\n",
       "      <th>801</th>\n",
       "      <td>19</td>\n",
       "      <td>025</td>\n",
       "      <td>Calhoun County</td>\n",
       "      <td>19025</td>\n",
       "    </tr>\n",
       "    <tr>\n",
       "      <th>802</th>\n",
       "      <td>19</td>\n",
       "      <td>027</td>\n",
       "      <td>Carroll County</td>\n",
       "      <td>19027</td>\n",
       "    </tr>\n",
       "    <tr>\n",
       "      <th>803</th>\n",
       "      <td>19</td>\n",
       "      <td>029</td>\n",
       "      <td>Cass County</td>\n",
       "      <td>19029</td>\n",
       "    </tr>\n",
       "    <tr>\n",
       "      <th>804</th>\n",
       "      <td>19</td>\n",
       "      <td>031</td>\n",
       "      <td>Cedar County</td>\n",
       "      <td>19031</td>\n",
       "    </tr>\n",
       "  </tbody>\n",
       "</table>\n",
       "</div>"
      ],
      "text/plain": [
       "    state_code county_code            name INCITS\n",
       "800         19         023   Butler County  19023\n",
       "801         19         025  Calhoun County  19025\n",
       "802         19         027  Carroll County  19027\n",
       "803         19         029     Cass County  19029\n",
       "804         19         031    Cedar County  19031"
      ]
     },
     "execution_count": 76,
     "metadata": {},
     "output_type": "execute_result"
    }
   ],
   "source": [
    "list_county_dfs[5].head()"
   ]
  },
  {
   "cell_type": "code",
   "execution_count": 79,
   "metadata": {},
   "outputs": [],
   "source": [
    "census_master_df = pd.concat([census_master_df, x])"
   ]
  },
  {
   "cell_type": "code",
   "execution_count": 80,
   "metadata": {},
   "outputs": [
    {
     "data": {
      "text/plain": [
       "(3142, 7)"
      ]
     },
     "execution_count": 80,
     "metadata": {},
     "output_type": "execute_result"
    }
   ],
   "source": [
    "census_master_df.shape"
   ]
  },
  {
   "cell_type": "code",
   "execution_count": 82,
   "metadata": {},
   "outputs": [],
   "source": [
    "with open('census_master_df.pkl', 'wb') as picklefile:\n",
    "    pickle.dump(census_master_df, picklefile)"
   ]
  },
  {
   "cell_type": "code",
   "execution_count": null,
   "metadata": {},
   "outputs": [],
   "source": []
  }
 ],
 "metadata": {
  "kernelspec": {
   "display_name": "Python 3",
   "language": "python",
   "name": "python3"
  },
  "language_info": {
   "codemirror_mode": {
    "name": "ipython",
    "version": 3
   },
   "file_extension": ".py",
   "mimetype": "text/x-python",
   "name": "python",
   "nbconvert_exporter": "python",
   "pygments_lexer": "ipython3",
   "version": "3.6.5"
  }
 },
 "nbformat": 4,
 "nbformat_minor": 2
}
